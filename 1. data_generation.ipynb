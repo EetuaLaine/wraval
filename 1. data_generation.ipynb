{
 "cells": [
  {
   "cell_type": "code",
   "execution_count": null,
   "id": "e2bc5be5-be21-4950-8398-b3acd661f254",
   "metadata": {},
   "outputs": [],
   "source": [
    "!pip install -r requirements.txt"
   ]
  },
  {
   "cell_type": "code",
   "execution_count": 1,
   "id": "35d859b6-f0c9-4eb8-9aea-66dd7cec4830",
   "metadata": {
    "tags": []
   },
   "outputs": [],
   "source": [
    "import boto3\n",
    "import json\n",
    "from datetime import datetime\n",
    "from botocore.exceptions import ClientError\n",
    "from concurrent.futures import ThreadPoolExecutor, as_completed"
   ]
  },
  {
   "cell_type": "code",
   "execution_count": 2,
   "id": "e5a10215-bb00-4660-82cd-7de88f9b6573",
   "metadata": {},
   "outputs": [],
   "source": [
    "from dynaconf import Dynaconf\n",
    "\n",
    "settings = Dynaconf(settings_files=[\"settings.toml\"], env=\"haiku-3\", environments=True)"
   ]
  },
  {
   "cell_type": "code",
   "execution_count": 3,
   "id": "9c325c81-2124-4ea9-b404-e2797fabf031",
   "metadata": {
    "tags": []
   },
   "outputs": [],
   "source": [
    "bedrock_client = boto3.client(service_name = 'bedrock-runtime', region_name = settings.region)"
   ]
  },
  {
   "cell_type": "code",
   "execution_count": 4,
   "id": "c0e625da-55c4-4692-a339-b09484800abe",
   "metadata": {},
   "outputs": [],
   "source": [
    "from src.completion import get_completion"
   ]
  },
  {
   "cell_type": "code",
   "execution_count": 5,
   "id": "9cc024ea-f00a-4183-b04c-da680d88f5fd",
   "metadata": {
    "tags": []
   },
   "outputs": [
    {
     "data": {
      "text/plain": [
       "'Hello! How can I assist you today?'"
      ]
     },
     "execution_count": 5,
     "metadata": {},
     "output_type": "execute_result"
    }
   ],
   "source": [
    "get_completion(settings.model, bedrock_client, 'hey')"
   ]
  },
  {
   "cell_type": "code",
   "execution_count": 10,
   "id": "0c7c4fcb-b6a4-4671-b94f-5f0ffc29456f",
   "metadata": {
    "tags": []
   },
   "outputs": [],
   "source": [
    "r = get_completion(settings.model, bedrock_client, settings.model, bedrock_client, 'Generate 100 sentences that someone would want to rewrite more professionally in a python list format.')"
   ]
  },
  {
   "cell_type": "code",
   "execution_count": 16,
   "id": "b14770b3-5dab-425b-9a6d-40fad17d057c",
   "metadata": {
    "collapsed": true,
    "jupyter": {
     "outputs_hidden": true
    },
    "tags": []
   },
   "outputs": [
    {
     "name": "stdout",
     "output_type": "stream",
     "text": [
      "Here are 100 sentences that someone might want to rewrite more professionally, presented in a Python list format:\n",
      "\n",
      "sentences = [\n",
      "    \"I was like, totally stoked to go to the party, ya know?\",\n",
      "    \"The dude was all up in my grill, and I was like, 'Chill, bro.'\",\n",
      "    \"She was trippin' hard, man, it was crazy.\",\n",
      "    \"I ain't got no time for that nonsense, ya dig?\",\n",
      "    \"That test was hella hard, I'm tellin' ya.\",\n",
      "    \"I was chillin' at the crib when my homie hit me up.\",\n",
      "    \"That flick was straight fire, fam.\",\n",
      "    \"I was feelin' myself, ya feel me?\",\n",
      "    \"That outfit was on fleek, no cap.\",\n",
      "    \"I was salty AF when they canceled the event.\",\n",
      "    \"That song slaps, bruh, no lie.\",\n",
      "    \"I was dead, fam, I couldn't even.\",\n",
      "    \"That food was bomb, no kizzy.\",\n",
      "    \"I was shook when I saw the price tag.\",\n",
      "    \"That joke was lit, I was dying.\",\n",
      "    \"I was salty when they ran out of my fave snack.\",\n",
      "    \"That movie was a whole vibe, fam.\",\n",
      "    \"I was feelin' myself in that outfit, ngl.\",\n",
      "    \"That concert was turnt, no cap.\",\n",
      "    \"I was shook when I saw the celeb in person.\",\n",
      "    \"That game was fire, bruh, no lie.\",\n",
      "    \"I was dead when I heard that news.\",\n",
      "    \"That book was a whole mood, fam.\",\n",
      "    \"I was trippin' when I lost my keys.\",\n",
      "    \"That restaurant was bomb, no kizzy.\",\n",
      "    \"I was salty when they canceled my plans.\",\n",
      "    \"That party was lit, I was dying.\",\n",
      "    \"I was feelin' myself in that outfit, ya feel me?\",\n",
      "    \"That song slaps, fam, no cap.\",\n",
      "    \"I was shook when I saw the surprise.\",\n",
      "    \"That movie was a whole vibe, bruh, no lie.\",\n",
      "    \"I was dead when I heard that joke.\",\n",
      "    \"That food was bomb, ya dig?\",\n",
      "    \"I was trippin' when I missed the bus.\",\n",
      "    \"That game was fire, fam, no kizzy.\",\n",
      "    \"I was salty when they ran out of my size.\",\n",
      "    \"That concert was turnt, ya feel me?\",\n",
      "    \"I was feelin' myself in that outfit, no cap.\",\n",
      "    \"That book was a whole mood, bruh, no lie.\",\n",
      "    \"I was shook when I saw the surprise party.\",\n",
      "    \"That restaurant was bomb, fam, no kizzy.\",\n",
      "    \"I was dead when I heard that news.\",\n",
      "    \"That song slaps, ya dig?\",\n",
      "    \"I was trippin' when I lost my wallet.\",\n",
      "    \"That movie was a whole vibe, no cap.\",\n",
      "    \"I was salty when they canceled the event.\",\n",
      "    \"That game was fire, ya feel me?\",\n",
      "    \"I was feelin' myself in that outfit, bruh, no lie.\",\n",
      "    \"That book was a whole mood, fam, no kizzy.\",\n",
      "    \"I was shook when I saw the celeb in person.\",\n",
      "    \"That restaurant was bomb, ya dig?\",\n",
      "    \"I was dead when I heard that joke.\",\n",
      "    \"That song slaps, no cap.\",\n",
      "    \"I was trippin' when I missed the train.\",\n",
      "    \"That movie was a whole vibe, ya feel me?\",\n",
      "    \"I was salty when they ran out of my fave snack.\",\n",
      "    \"That game was fire, bruh, no lie.\",\n",
      "    \"I was feelin' myself in that outfit, fam, no kizzy.\",\n",
      "    \"That book was a whole mood, ya dig?\",\n",
      "    \"I was shook when I saw the surprise.\",\n",
      "    \"That restaurant was bomb, no cap.\",\n",
      "    \"I was dead when I heard that news.\",\n",
      "    \"That song slaps, ya feel me?\",\n",
      "    \"I was trippin' when I lost my phone.\",\n",
      "    \"That movie was a whole vibe, bruh, no lie.\",\n",
      "    \"I was salty when they canceled my plans.\",\n",
      "    \"That game was fire, fam, no kizzy.\",\n",
      "    \"I was feelin' myself in that outfit, ya dig?\",\n",
      "    \"That book was a whole mood, no cap.\",\n",
      "    \"I was shook when I saw the celeb in person.\",\n",
      "    \"That restaurant was bomb, ya feel me?\",\n",
      "    \"I was dead when I heard that joke.\",\n",
      "    \"That song slaps, bruh, no lie.\",\n",
      "    \"I was trippin' when I missed the deadline.\",\n",
      "    \"That movie was a whole vibe, fam, no kizzy.\",\n",
      "    \"I was salty when they ran out of my size.\",\n",
      "    \"That game was fire, ya dig?\",\n",
      "    \"I was feelin' myself in that outfit, no cap.\",\n",
      "    \"That book was a whole mood, ya feel me?\",\n",
      "    \"I was shook when I saw the surprise party.\",\n",
      "    \"That restaurant was bomb, bruh, no lie.\",\n",
      "    \"I was dead when I heard that news.\",\n",
      "    \"That song slaps, fam, no kizzy.\",\n",
      "    \"I was trippin' when I lost my keys.\",\n",
      "    \"That movie was a whole vibe, ya dig?\",\n",
      "    \"I was salty when they canceled the event.\",\n",
      "    \"That game was fire, no cap.\",\n",
      "    \"I was feelin' myself in that outfit, ya feel me?\",\n",
      "    \"That book was a whole mood, bruh, no lie.\",\n",
      "    \"I was shook when I saw the celeb in person.\",\n",
      "    \"That restaurant was bomb, fam, no kizzy.\",\n",
      "    \"I was dead when I heard that joke.\",\n",
      "    \"That song slaps, ya dig?\",\n",
      "    \"I was trippin' when I missed the bus.\",\n",
      "    \"That movie was a whole vibe, no cap.\"\n",
      "]\n"
     ]
    }
   ],
   "source": [
    "print(r)"
   ]
  },
  {
   "cell_type": "code",
   "execution_count": 132,
   "id": "36fd5f6c-7d92-4d5b-8eca-47603e32edb2",
   "metadata": {
    "tags": []
   },
   "outputs": [],
   "source": [
    "r = get_completion(settings.model, bedrock_client, 'Generate 100 sentences that someone would want to rewrite in a more witty way in a python list format.')"
   ]
  },
  {
   "cell_type": "code",
   "execution_count": 134,
   "id": "8d0ba16b-5eb9-406c-a5f3-ad0e6b441b29",
   "metadata": {
    "collapsed": true,
    "jupyter": {
     "outputs_hidden": true
    },
    "tags": []
   },
   "outputs": [
    {
     "name": "stdout",
     "output_type": "stream",
     "text": [
      "Here are 100 sentences that someone might want to rewrite in a more witty way, presented in a Python list format:\n",
      "\n",
      "sentences = [\n",
      "    \"I went to the store to buy some groceries.\",\n",
      "    \"The weather was nice today.\",\n",
      "    \"I had a busy day at work.\",\n",
      "    \"I watched a movie last night.\",\n",
      "    \"I like to read books in my free time.\",\n",
      "    \"I need to do laundry this weekend.\",\n",
      "    \"I cooked dinner for my family.\",\n",
      "    \"I went for a walk in the park.\",\n",
      "    \"I had a meeting with my boss.\",\n",
      "    \"I need to clean my house.\",\n",
      "    \"I enjoy listening to music.\",\n",
      "    \"I had a good workout at the gym.\",\n",
      "    \"I need to study for my exam.\",\n",
      "    \"I went to the doctor for a checkup.\",\n",
      "    \"I had a great time at the party.\",\n",
      "    \"I need to pay my bills.\",\n",
      "    \"I enjoy spending time with my friends.\",\n",
      "    \"I had a productive day.\",\n",
      "    \"I need to buy a new car.\",\n",
      "    \"I went on a vacation last month.\",\n",
      "    \"I had a difficult conversation with someone.\",\n",
      "    \"I need to find a new job.\",\n",
      "    \"I enjoy playing video games.\",\n",
      "    \"I had a great meal at a restaurant.\",\n",
      "    \"I need to get a haircut.\",\n",
      "    \"I went to the beach this summer.\",\n",
      "    \"I had a disagreement with my partner.\",\n",
      "    \"I need to buy new clothes.\",\n",
      "    \"I enjoy watching sports.\",\n",
      "    \"I had a good night's sleep.\",\n",
      "    \"I need to fix my computer.\",\n",
      "    \"I went to a concert last week.\",\n",
      "    \"I had a busy day running errands.\",\n",
      "    \"I need to plan a trip.\",\n",
      "    \"I enjoy gardening.\",\n",
      "    \"I had a productive meeting.\",\n",
      "    \"I need to buy new furniture.\",\n",
      "    \"I enjoy cooking new recipes.\",\n",
      "    \"I had a great time at the fair.\",\n",
      "    \"I need to get my car serviced.\",\n",
      "    \"I enjoy going to art museums.\",\n",
      "    \"I had a difficult decision to make.\",\n",
      "    \"I need to buy new shoes.\",\n",
      "    \"I enjoy reading the news.\",\n",
      "    \"I had a great time at the park.\",\n",
      "    \"I need to buy new glasses.\",\n",
      "    \"I enjoy playing board games.\",\n",
      "    \"I had a busy week at work.\",\n",
      "    \"I need to buy new tires for my car.\",\n",
      "    \"I enjoy going to the movies.\",\n",
      "    \"I had a great time at the beach.\",\n",
      "    \"I need to buy new bedding.\",\n",
      "    \"I enjoy trying new restaurants.\",\n",
      "    \"I had a productive day working from home.\",\n",
      "    \"I need to buy new towels.\",\n",
      "    \"I enjoy going for hikes.\",\n",
      "    \"I had a great time at the museum.\",\n",
      "    \"I need to buy new curtains.\",\n",
      "    \"I enjoy playing sports.\",\n",
      "    \"I had a busy day running errands.\",\n",
      "    \"I need to buy new pots and pans.\",\n",
      "    \"I enjoy going to the theater.\",\n",
      "    \"I had a great time at the concert.\",\n",
      "    \"I need to buy new furniture.\",\n",
      "    \"I enjoy going to the gym.\",\n",
      "    \"I had a busy day at work.\",\n",
      "    \"I need to buy new tools.\",\n",
      "    \"I enjoy reading books.\",\n",
      "    \"I had a great time at the party.\",\n",
      "    \"I need to buy new decorations.\",\n",
      "    \"I enjoy going to the park.\",\n",
      "    \"I had a busy day running errands.\",\n",
      "    \"I need to buy new appliances.\",\n",
      "    \"I enjoy going to the beach.\",\n",
      "    \"I had a great time at the fair.\",\n",
      "    \"I need to buy new electronics.\",\n",
      "    \"I enjoy going to the movies.\",\n",
      "    \"I had a busy day at work.\",\n",
      "    \"I need to buy new furniture.\",\n",
      "    \"I enjoy trying new hobbies.\",\n",
      "    \"I had a great time at the concert.\",\n",
      "    \"I need to buy new clothes.\",\n",
      "    \"I enjoy going to the gym.\",\n",
      "    \"I had a busy day running errands.\",\n",
      "    \"I need to buy new books.\",\n",
      "    \"I enjoy going to the park.\",\n",
      "    \"I had a great time at the party.\",\n",
      "    \"I need to buy new decorations.\",\n",
      "    \"I enjoy trying new recipes.\",\n",
      "    \"I had a busy day at work.\",\n",
      "    \"I need to buy new tools.\"\n",
      "]\n"
     ]
    }
   ],
   "source": [
    "print(r)"
   ]
  },
  {
   "cell_type": "code",
   "execution_count": 249,
   "id": "e40d7117-a0f8-41a6-8bf5-8a5298875158",
   "metadata": {
    "tags": []
   },
   "outputs": [],
   "source": [
    "r = get_completion(settings.model, bedrock_client, 'Generate 10 paragraphs (1-5 sentences) that someone would want to shorten in a python list format.')"
   ]
  },
  {
   "cell_type": "code",
   "execution_count": 250,
   "id": "7b77f627-4065-410f-826d-1bfb2b9edf4c",
   "metadata": {
    "collapsed": true,
    "jupyter": {
     "outputs_hidden": true
    },
    "tags": []
   },
   "outputs": [
    {
     "name": "stdout",
     "output_type": "stream",
     "text": [
      "Here are 10 paragraphs (1-5 sentences) that someone would want to shorten in a Python list format:\n",
      "\n",
      "paragraphs = [\n",
      "    \"The quick brown fox jumps over the lazy dog. It's a well-known pangram, a sentence that contains all the letters of the alphabet. This phrase has been used to test typewriters, computer keyboards, and other devices that involve text input.\",\n",
      "    \"In the realm of software development, Python has emerged as a powerful and versatile programming language. Its simplicity, readability, and vast ecosystem of libraries have made it a go-to choice for developers across various domains, from web development and data analysis to machine learning and automation. Python's popularity continues to soar, thanks to its user-friendly syntax and cross-platform compatibility.\",\n",
      "    \"The majestic Himalayas, a towering mountain range that stretches across several countries in Asia, have captivated the imagination of adventurers and nature enthusiasts for centuries. These snow-capped peaks, some of the highest in the world, offer breathtaking vistas, challenging trekking routes, and a unique opportunity to immerse oneself in the rich cultural tapestry of the region.\",\n",
      "    \"Artificial intelligence (AI) has rapidly evolved from a theoretical concept to a transformative technology that is reshaping industries and our daily lives. From virtual assistants and self-driving cars to medical diagnostics and predictive analytics, AI algorithms are revolutionizing the way we interact with machines and process vast amounts of data.\",\n",
      "    \"The concept of sustainability has gained significant traction in recent years, as individuals, businesses, and governments alike recognize the urgent need to address environmental challenges and promote responsible practices. Sustainable development aims to meet the needs of the present without compromising the ability of future generations to meet their own needs.\",\n",
      "    \"Effective communication is a crucial skill in both personal and professional settings. It involves the ability to convey ideas, thoughts, and emotions clearly and concisely, while also actively listening and understanding the perspectives of others. Mastering the art of communication can foster stronger relationships, enhance collaboration, and facilitate problem-solving.\",\n",
      "    \"The world of cryptocurrency and blockchain technology has disrupted traditional financial systems, introducing decentralized and transparent alternatives for transactions and record-keeping. Bitcoin, the pioneering cryptocurrency, has paved the way for a myriad of digital currencies and innovative applications built on blockchain technology.\",\n",
      "    \"Cybersecurity has become a paramount concern in our increasingly interconnected world, where sensitive data and critical systems are constantly at risk of cyber threats. From individual privacy breaches to large-scale corporate hacks and nation-state attacks, the consequences of cybersecurity vulnerabilities can be severe and far-reaching.\",\n",
      "    \"The pursuit of happiness is a universal human endeavor, yet its definition and path to attainment can vary greatly among individuals and cultures. Some may find happiness in material possessions, while others seek fulfillment through personal growth, meaningful relationships, or contributing to a greater cause.\",\n",
      "    \"The world of sports has the power to unite people from diverse backgrounds, transcending cultural and linguistic barriers. Whether it's the thrill of a nail-biting match, the camaraderie of a team, or the admiration for athletic excellence, sports have the ability to evoke a range of emotions and create lasting memories.\"\n",
      "]\n"
     ]
    }
   ],
   "source": [
    "print(r)"
   ]
  },
  {
   "cell_type": "code",
   "execution_count": 252,
   "id": "b728f3fb-b7c0-4ace-a8b0-26d26ad0e025",
   "metadata": {
    "tags": []
   },
   "outputs": [],
   "source": [
    "r = get_completion(settings.model, bedrock_client, 'Generate 10 paragraphs (1-5 sentences) that look like emails that someone would want to shorten in a python list format.')"
   ]
  },
  {
   "cell_type": "code",
   "execution_count": 253,
   "id": "aeb07b25-8580-48b8-9b4c-bc698468fb72",
   "metadata": {
    "collapsed": true,
    "jupyter": {
     "outputs_hidden": true
    },
    "tags": []
   },
   "outputs": [
    {
     "name": "stdout",
     "output_type": "stream",
     "text": [
      "Here are 10 paragraphs that look like emails that someone would want to shorten in a Python list format:\n",
      "\n",
      "emails = [\n",
      "    \"Dear Sir/Madam,\\n\\nI hope this email finds you well. I am writing to inquire about the availability of your product line for the upcoming quarter. Could you please provide me with the latest pricing and delivery schedules? Additionally, I would appreciate if you could share any promotional offers or discounts that may be applicable. Thank you in advance for your assistance.\\n\\nBest regards,\\n[Your Name]\",\n",
      "\n",
      "    \"Hello,\\n\\nI wanted to follow up on the project proposal I submitted last week. Have you had a chance to review it? I would be happy to provide any additional information or clarification needed. Please let me know if you require any further details or if you have any concerns.\\n\\nThank you for your consideration.\\n\\nBest regards,\\n[Your Name]\",\n",
      "\n",
      "    \"Greetings,\\n\\nI hope this email finds you doing well. I am writing to express my interest in the open position for [Job Title] at your esteemed company. With my extensive experience in [Relevant Field] and a proven track record of success, I am confident in my ability to contribute significantly to your organization.\\n\\nPlease find my resume attached for your review. I would welcome the opportunity to discuss my qualifications further and learn more about the role and your company.\\n\\nThank you for your time and consideration.\\n\\nSincerely,\\n[Your Name]\",\n",
      "\n",
      "    \"Dear [Recipient's Name],\\n\\nI wanted to take a moment to express my gratitude for your exceptional service and support throughout our recent project. Your dedication, professionalism, and attention to detail were truly remarkable. The successful completion of this endeavor would not have been possible without your invaluable contributions.\\n\\nIt has been an absolute pleasure working with you, and I look forward to future collaborations.\\n\\nSincerely,\\n[Your Name]\",\n",
      "\n",
      "    \"Hello [Recipient's Name],\\n\\nI hope this email finds you well. I am writing to request a meeting to discuss the upcoming marketing campaign for our new product line. I believe it would be beneficial for us to align our strategies and ensure a cohesive approach.\\n\\nPlease let me know if you have any availability in the coming week. I appreciate your time and look forward to your response.\\n\\nBest regards,\\n[Your Name]\",\n",
      "\n",
      "    \"Dear Team,\\n\\nI wanted to share some exciting news with all of you. Our company has been selected as a finalist for the [Award Name] in recognition of our outstanding achievements and contributions to the industry. This is a remarkable accomplishment and a testament to the hard work and dedication of each and every one of you.\\n\\nI would like to extend my sincere gratitude to the entire team for their unwavering commitment and efforts. Let's continue to strive for excellence and make our company proud.\\n\\nCongratulations to all!\\n\\nBest regards,\\n[Your Name]\",\n",
      "\n",
      "    \"Hello [Recipient's Name],\\n\\nI hope this email finds you well. I am writing to inquire about the status of the pending invoice [Invoice Number] for the services rendered last month. As per our agreement, the payment was due on [Due Date], but I have not received it yet.\\n\\nKindly provide an update on when I can expect the payment or if there are any issues that need to be addressed. Your prompt attention to this matter would be greatly appreciated.\\n\\nThank you for your understanding.\\n\\nBest regards,\\n[Your Name]\",\n",
      "\n",
      "    \"Dear [Recipient's Name],\\n\\nI hope this email finds you doing well. I wanted to follow up on our previous discussion regarding the potential partnership opportunity between our companies. After careful consideration, I believe that a collaboration would be mutually beneficial and allow us to leverage each other's strengths and expertise.\\n\\nI would be grateful if we could schedule a call or meeting to further explore this possibility and discuss the potential terms and conditions. Please let me know your availability at your earliest convenience.\\n\\nThank you for your time and consideration.\\n\\nBest regards,\\n[Your Name]\",\n",
      "\n",
      "    \"Greetings,\\n\\nI hope this email finds you well. I am writing to express my interest in attending the upcoming [Event Name] hosted by your organization. As a passionate [Professional Field] professional, I believe this event would provide invaluable insights and networking opportunities.\\n\\nKindly let me know if there are any remaining spots available and how I can secure my registration. I would greatly appreciate any information you can provide regarding the event details, agenda, and any applicable discounts or early bird rates.\\n\\nThank you for your assistance.\\n\\nBest regards,\\n[Your Name]\",\n",
      "\n",
      "    \"Dear [Recipient's Name],\\n\\nI hope this email finds you well. I wanted to express my sincere appreciation for the opportunity to interview for the [Position Title] role at your esteemed company. The interview process was insightful and allowed me to gain a deeper understanding of the role and your organization's values and culture.\\n\\nRegardless of the outcome, I am grateful for the experience and the chance to showcase my qualifications. If any additional information is required from my end, please do not hesitate to let me know.\\n\\nThank you once again for your time and consideration.\\n\\nBest regards,\\n[Your Name]\"\n",
      "]\n"
     ]
    }
   ],
   "source": [
    "print(r)"
   ]
  },
  {
   "cell_type": "code",
   "execution_count": 254,
   "id": "333d77aa-1e54-4627-ae00-04ee5a765bc2",
   "metadata": {
    "tags": []
   },
   "outputs": [],
   "source": [
    "r = get_completion(settings.model, bedrock_client, 'Generate 10 paragraphs (1-5 sentences) that look like text messages that someone would want to shorten in a python list format.')"
   ]
  },
  {
   "cell_type": "code",
   "execution_count": 255,
   "id": "38040884-3b26-41e6-b947-b12c8bf0deea",
   "metadata": {
    "collapsed": true,
    "jupyter": {
     "outputs_hidden": true
    },
    "tags": []
   },
   "outputs": [
    {
     "name": "stdout",
     "output_type": "stream",
     "text": [
      "Here are 10 paragraphs that look like text messages that someone would want to shorten, in a Python list format:\n",
      "\n",
      "messages = [\n",
      "    \"Hey, what's up? I'm running a bit late for our meeting. I'll be there in about 15 minutes. Sorry for the delay.\",\n",
      "    \"I just wanted to let you know that I finished the project we were working on. I'll send you the files as soon as I get home.\",\n",
      "    \"Do you have any plans for this weekend? I was thinking we could go hiking or maybe catch a movie if the weather isn't great.\",\n",
      "    \"I'm so tired of this traffic! It's taking me forever to get home from work. I might just order takeout instead of cooking tonight.\",\n",
      "    \"Have you heard about the new restaurant that opened downtown? A couple of friends went there last night and said it was amazing. We should check it out sometime.\",\n",
      "    \"I can't believe how much homework I have this week. It's going to be a long few days of studying and writing papers. Wish me luck!\",\n",
      "    \"My phone is acting up again. I might need to get a new one soon. Do you have any recommendations for a good smartphone?\",\n",
      "    \"I'm so excited for our vacation next month! I can't wait to relax on the beach and soak up some sun. It's going to be amazing.\",\n",
      "    \"I just saw the funniest video on social media. You have to check it out. I'll send you the link when I get a chance.\",\n",
      "    \"I'm running low on groceries. Do you need anything from the store? I can pick up a few things for you while I'm there.\"\n",
      "]\n"
     ]
    }
   ],
   "source": [
    "print(r)"
   ]
  },
  {
   "cell_type": "code",
   "execution_count": null,
   "id": "e3ba5da5-7f0b-4960-80d0-e88c247f1be7",
   "metadata": {},
   "outputs": [],
   "source": [
    "r = get_completion(settings.model, bedrock_client, 'Generate 10 paragraphs (1-5 sentences) that look like text messages that someone would want to shorten in a python list format.')"
   ]
  },
  {
   "cell_type": "code",
   "execution_count": 260,
   "id": "41258b79-4560-457e-950c-31e280fb15fb",
   "metadata": {
    "tags": []
   },
   "outputs": [],
   "source": [
    "r = get_completion(settings.model, bedrock_client, \"\"\"\n",
    "Generate 20 sentences that someone would want to shorten in a python list format.\n",
    "<example>\n",
    "<user>\n",
    "Hello, it's been a while. How have you been? We should meet up soon, we have a lot to catch you up on since I got married last year!\n",
    "<user>\n",
    "<assistant>\n",
    "Hi, how've you been? Let's catch up soon, lots to share since the wedding!\n",
    "<assistant>\n",
    "<example>\n",
    "\"\"\"\n",
    ")"
   ]
  },
  {
   "cell_type": "code",
   "execution_count": 261,
   "id": "b3a1eaca-d895-42d3-8fff-65602bdeeab9",
   "metadata": {
    "collapsed": true,
    "jupyter": {
     "outputs_hidden": true
    },
    "tags": []
   },
   "outputs": [
    {
     "name": "stdout",
     "output_type": "stream",
     "text": [
      "Here are 20 sentences that someone might want to shorten, in a Python list format:\n",
      "\n",
      "sentences = [\n",
      "    \"I am going to the grocery store to purchase some fresh fruits and vegetables for a healthy meal.\",\n",
      "    \"The weather forecast is predicting a high chance of rain and thunderstorms throughout the entire day.\",\n",
      "    \"After a long and exhausting day at work, I am looking forward to relaxing on the couch and watching my favorite television show.\",\n",
      "    \"My friend and I are planning to take a road trip across the country during our summer vacation.\",\n",
      "    \"The professor provided detailed instructions on how to complete the complex assignment by the due date.\",\n",
      "    \"In order to maintain a balanced lifestyle, it is important to exercise regularly and consume a nutritious diet.\",\n",
      "    \"The construction crew is working diligently to complete the renovation project before the deadline.\",\n",
      "    \"My sister recently graduated from university with honors and is now searching for employment opportunities.\",\n",
      "    \"The new restaurant in town offers a diverse menu featuring international cuisine from various cultures.\",\n",
      "    \"During the weekend, I enjoy spending quality time with my family by engaging in outdoor activities.\",\n",
      "    \"The company is implementing a new software system to streamline their business operations and improve efficiency.\",\n",
      "    \"The annual music festival attracts thousands of attendees from around the world to celebrate and enjoy live performances.\",\n",
      "    \"My neighbor's dog has a tendency to bark excessively, which can be quite disruptive and annoying at times.\",\n",
      "    \"The local library is hosting a book club meeting to discuss the latest bestselling novel and share insights.\",\n",
      "    \"The team is preparing diligently for the upcoming championship game, determined to bring home the trophy.\",\n",
      "    \"The art exhibition showcases a collection of stunning paintings and sculptures created by talented artists.\",\n",
      "    \"My friend is an avid traveler and has visited numerous countries, experiencing diverse cultures and traditions.\",\n",
      "    \"The new movie release has received rave reviews from critics, praising its captivating storyline and outstanding performances.\",\n",
      "    \"The university is offering a variety of extracurricular activities and clubs for students to explore their interests.\",\n",
      "    \"The annual charity event aims to raise funds and awareness for an important cause, supporting those in need.\"\n",
      "]\n"
     ]
    }
   ],
   "source": [
    "print(r)"
   ]
  },
  {
   "cell_type": "code",
   "execution_count": 262,
   "id": "ea15b1af-bad0-4913-9ec1-1a0353e575a0",
   "metadata": {
    "tags": []
   },
   "outputs": [],
   "source": [
    "r = get_completion(settings.model, bedrock_client, \"\"\"\n",
    "Generate 50 sentences that someone would want to shorten in a python list format.\n",
    "<example>\n",
    "<user>\n",
    "Hello, it's been a while. How have you been? We should meet up soon, we have a lot to catch you up on since I got married last year!\n",
    "<user>\n",
    "<assistant>\n",
    "Hi, how've you been? Let's catch up soon, lots to share since the wedding!\n",
    "<assistant>\n",
    "<example>\n",
    "\"\"\"\n",
    ")"
   ]
  },
  {
   "cell_type": "code",
   "execution_count": 263,
   "id": "9eb98322-1429-4f83-90aa-85ba5e5c6f63",
   "metadata": {
    "collapsed": true,
    "jupyter": {
     "outputs_hidden": true
    },
    "tags": []
   },
   "outputs": [
    {
     "name": "stdout",
     "output_type": "stream",
     "text": [
      "Here are 50 sentences that someone might want to shorten, in a Python list format:\n",
      "\n",
      "sentences = [\n",
      "    \"I am going to the grocery store to purchase some fresh fruits and vegetables for dinner tonight.\",\n",
      "    \"The quick brown fox jumps over the lazy dog, as the old saying goes, which is often used to test font displays.\",\n",
      "    \"In order to maintain a healthy lifestyle, it is recommended to exercise regularly and consume a balanced diet.\",\n",
      "    \"The meeting has been rescheduled for next Tuesday at 2 PM due to unforeseen circumstances.\",\n",
      "    \"Could you please provide me with the detailed instructions on how to assemble this piece of furniture?\",\n",
      "    \"I have been working on this project for the past three months, and I am finally nearing its completion.\",\n",
      "    \"The weather forecast predicts that there will be scattered showers throughout the day, so don't forget to carry an umbrella.\",\n",
      "    \"I am planning to take a vacation next month and visit some of the most beautiful beaches in the Caribbean.\",\n",
      "    \"The new restaurant in town has received rave reviews for its delicious cuisine and exceptional service.\",\n",
      "    \"I have been trying to learn a new programming language, but I am finding it quite challenging and complex.\",\n",
      "    \"The annual company picnic is scheduled for this Saturday, and all employees are encouraged to attend with their families.\",\n",
      "    \"I am currently reading a fascinating book about the history of ancient civilizations and their cultural practices.\",\n",
      "    \"The construction of the new highway has been delayed due to unexpected environmental concerns raised by local residents.\",\n",
      "    \"I am considering enrolling in an online course to enhance my skills and knowledge in a particular field.\",\n",
      "    \"The concert was an incredible experience, and the band's performance exceeded all of my expectations.\",\n",
      "    \"I have been searching for a new apartment that is closer to my workplace and within my budget.\",\n",
      "    \"The company has announced a major restructuring plan, which may result in some job losses and departmental changes.\",\n",
      "    \"I am planning to host a dinner party this weekend and invite some of my closest friends and family members.\",\n",
      "    \"The new software update has introduced several bug fixes and performance improvements to the application.\",\n",
      "    \"I have been trying to learn a new language in preparation for my upcoming trip to a foreign country.\",\n",
      "    \"The university is offering a scholarship program for outstanding students who demonstrate academic excellence.\",\n",
      "    \"I am considering purchasing a new car, but I am unsure which model and make would best suit my needs.\",\n",
      "    \"The local community center is organizing a charity event to raise funds for underprivileged children in the area.\",\n",
      "    \"I have been working on a personal project in my spare time, which involves creating a website for my small business.\",\n",
      "    \"The movie received mixed reviews from critics, with some praising its cinematography and others criticizing its plot.\",\n",
      "    \"I am planning to attend a professional development seminar next month to enhance my skills and knowledge.\",\n",
      "    \"The new restaurant in town has become quite popular, and it is often difficult to get a reservation.\",\n",
      "    \"I have been trying to learn a new programming language in order to expand my skillset and career opportunities.\",\n",
      "    \"The company has implemented a new policy regarding remote work, allowing employees to work from home on certain days.\",\n",
      "    \"I am considering taking up a new hobby, such as painting or photography, to explore my creative side.\",\n",
      "    \"The local library is hosting a book fair this weekend, featuring a wide selection of books and author talks.\",\n",
      "    \"I have been working on improving my time management skills to increase productivity and achieve better work-life balance.\",\n",
      "    \"The new software update has introduced several security enhancements to protect user data and privacy.\",\n",
      "    \"I am planning to redecorate my living room and looking for inspiration from various interior design magazines.\",\n",
      "    \"The university is offering a study abroad program for students interested in experiencing different cultures.\",\n",
      "    \"I have been trying to learn a new language in preparation for my upcoming trip to a foreign country.\",\n",
      "    \"The company has announced a new employee wellness program to promote healthy lifestyles among its workforce.\",\n",
      "    \"I am considering taking up a new sport or physical activity to improve my overall fitness and well-being.\",\n",
      "    \"The local community center is organizing a food drive to support families in need during the holiday season.\",\n",
      "    \"I have been working on a personal project in my spare time, which involves creating a mobile application.\",\n",
      "    \"The new movie release has generated a lot of buzz and excitement among fans of the franchise.\",\n",
      "    \"I am planning to attend a networking event next week to connect with professionals in my industry.\",\n",
      "    \"The company has implemented a new training program to help employees develop their leadership skills.\",\n",
      "    \"I have been trying to learn a new programming language to stay up-to-date with the latest technologies.\",\n",
      "    \"The local park is hosting a music festival this summer, featuring a diverse lineup of artists and performers.\",\n",
      "    \"I am considering taking up a new hobby, such as gardening or woodworking, to explore my creative side.\",\n",
      "    \"The university is offering a summer internship program for students interested in gaining practical experience.\",\n",
      "    \"I have been working on improving my public speaking skills to enhance my confidence and communication abilities.\"\n",
      "]\n"
     ]
    }
   ],
   "source": [
    "print(r)"
   ]
  },
  {
   "cell_type": "code",
   "execution_count": 245,
   "id": "9554d624-fa05-443f-826e-27c1dfea2f79",
   "metadata": {
    "tags": []
   },
   "outputs": [],
   "source": [
    "r = get_completion(settings.model, bedrock_client, 'Generate 100 sentences that someone would want to render more casual in a python list format. Make the sentences as diverse as possible')"
   ]
  },
  {
   "cell_type": "code",
   "execution_count": 246,
   "id": "a79a1172-54fc-426d-988a-97a26e74159f",
   "metadata": {
    "collapsed": true,
    "jupyter": {
     "outputs_hidden": true
    },
    "tags": []
   },
   "outputs": [
    {
     "name": "stdout",
     "output_type": "stream",
     "text": [
      "Here are 100 sentences that someone might want to render more casual, presented in a Python list format:\n",
      "\n",
      "sentences = [\n",
      "    \"Good morning, how are you doing today?\",\n",
      "    \"I would like to inquire about the availability of the product.\",\n",
      "    \"Could you please provide me with the directions to the nearest restroom?\",\n",
      "    \"I am experiencing some difficulties with the software.\",\n",
      "    \"Would you be so kind as to pass me the salt?\",\n",
      "    \"I must apologize for my tardiness.\",\n",
      "    \"I am writing to express my dissatisfaction with the service provided.\",\n",
      "    \"I would be honored if you would join me for dinner this evening.\",\n",
      "    \"May I have your attention, please?\",\n",
      "    \"I am afraid I do not understand the question.\",\n",
      "    \"I would like to make a reservation for two people.\",\n",
      "    \"Could you please speak more slowly?\",\n",
      "    \"I am having trouble comprehending the material.\",\n",
      "    \"I would appreciate it if you could refrain from smoking.\",\n",
      "    \"I am not feeling well today.\",\n",
      "    \"I would like to request a refund for the defective product.\",\n",
      "    \"Could you please repeat that?\",\n",
      "    \"I am running late for the meeting.\",\n",
      "    \"I would like to express my gratitude for your assistance.\",\n",
      "    \"May I have a moment of your time?\",\n",
      "    \"I am afraid I cannot attend the event.\",\n",
      "    \"I would like to inquire about the dress code for the occasion.\",\n",
      "    \"Could you please hold the elevator?\",\n",
      "    \"I am having difficulty locating the restroom.\",\n",
      "    \"I would like to make a complaint about the noise level.\",\n",
      "    \"May I borrow your pen?\",\n",
      "    \"I am not sure if I understand the instructions correctly.\",\n",
      "    \"I would like to request a copy of the menu.\",\n",
      "    \"Could you please turn down the volume?\",\n",
      "    \"I am feeling a bit under the weather today.\",\n",
      "    \"I would like to express my condolences for your loss.\",\n",
      "    \"May I have your attention for a moment?\",\n",
      "    \"I am not satisfied with the quality of the product.\",\n",
      "    \"I would like to inquire about the return policy.\",\n",
      "    \"Could you please speak more clearly?\",\n",
      "    \"I am having trouble finding a parking spot.\",\n",
      "    \"I would like to make a reservation for a table for four.\",\n",
      "    \"May I have your name and contact information?\",\n",
      "    \"I am not sure if I am in the right place.\",\n",
      "    \"I would like to request a refill on my drink.\",\n",
      "    \"Could you please turn on the air conditioning?\",\n",
      "    \"I am feeling a bit overwhelmed with the workload.\",\n",
      "    \"I would like to express my appreciation for your hard work.\",\n",
      "    \"May I have a moment of your undivided attention?\",\n",
      "    \"I am not comfortable with the proposed solution.\",\n",
      "    \"I would like to inquire about the availability of vegetarian options.\",\n",
      "    \"Could you please provide me with a pen and paper?\",\n",
      "    \"I am having trouble accessing the website.\",\n",
      "    \"I would like to make a suggestion for improvement.\",\n",
      "    \"May I have your opinion on this matter?\",\n",
      "    \"I am not sure if I am pronouncing this word correctly.\",\n",
      "    \"I would like to request a copy of the bill.\",\n",
      "    \"Could you please turn off the lights?\",\n",
      "    \"I am feeling a bit anxious about the upcoming presentation.\",\n",
      "    \"I would like to express my gratitude for your patience.\",\n",
      "    \"May I have your permission to leave early today?\",\n",
      "    \"I am not sure if I am following the correct procedure.\",\n",
      "    \"I would like to inquire about the dress code for the office.\",\n",
      "    \"Could you please speak more slowly and clearly?\",\n",
      "    \"I am having trouble understanding the instructions.\",\n",
      "    \"I would like to make a reservation for a room with two beds.\",\n",
      "    \"May I have your assistance with carrying these boxes?\",\n",
      "    \"I am not sure if I am qualified for the position.\",\n",
      "    \"I would like to request a refund for the faulty product.\",\n",
      "    \"Could you please provide me with a glass of water?\",\n",
      "    \"I am feeling a bit overwhelmed with the amount of work.\",\n",
      "    \"I would like to express my gratitude for your kindness.\",\n",
      "    \"May I have your opinion on the best route to take?\",\n",
      "    \"I am not sure if I am interpreting the data correctly.\",\n",
      "    \"I would like to inquire about the availability of discounts.\",\n",
      "    \"Could you please speak more slowly and clearly?\",\n",
      "    \"I am having trouble understanding the instructions.\",\n",
      "    \"I would like to make a reservation for a table near the window.\",\n",
      "    \"May I have your assistance with setting up the equipment?\",\n",
      "    \"I am not sure if I am following the correct procedure.\",\n",
      "    \"I would like to request a copy of the contract.\",\n",
      "    \"Could you please turn on the fan?\",\n",
      "    \"I am feeling a bit overwhelmed with the amount of work.\",\n",
      "    \"I would like to express my gratitude for your patience.\",\n",
      "    \"May I have your opinion on the best way to approach this task?\",\n",
      "    \"I am not sure if I am interpreting the data correctly.\",\n",
      "    \"I would like to inquire about the availability of training opportunities.\",\n",
      "    \"Could you please provide me with a pen and paper?\",\n",
      "    \"I am having trouble accessing the website.\",\n",
      "    \"I would like to make a suggestion for improving the process.\",\n",
      "    \"May I have your attention for a moment?\",\n",
      "    \"I am not comfortable with the proposed solution.\",\n",
      "    \"I would like to request a refund for the defective product.\",\n",
      "    \"Could you please turn off the lights?\",\n",
      "    \"I am feeling a bit anxious about the upcoming presentation.\",\n",
      "    \"I would like to express my gratitude for your hard work.\",\n",
      "    \"May I have your permission to leave early today?\",\n",
      "    \"I am not sure if I am following the correct procedure.\"\n",
      "]\n"
     ]
    }
   ],
   "source": [
    "print(r)"
   ]
  },
  {
   "cell_type": "code",
   "execution_count": 268,
   "id": "c4a0c60e-8ab4-4ca9-9a7a-ab97450d5ba7",
   "metadata": {
    "tags": []
   },
   "outputs": [],
   "source": [
    "r = get_completion(settings.model, bedrock_client, \"\"\"\n",
    "Generate 33 short sentences that need elaboration in a python list format. Make the sentences as diverse as possible.\n",
    "<example>\n",
    "<short>\n",
    "Hugh Jackman\n",
    "<short>\n",
    "<elaboration>\n",
    "Hugh Jackman is an Australian actor known for his portrayal of the Marvel superhero Wolverine in the X-Men film series. He has starred in numerous other films, including Les Misérables, for which he received an Academy Award nomination for Best Actor.\n",
    "<elaboration>\n",
    "<example>\n",
    "\"\"\"\n",
    ")"
   ]
  },
  {
   "cell_type": "code",
   "execution_count": 269,
   "id": "5f70cd81-7aab-471c-a677-16419ec76003",
   "metadata": {
    "collapsed": true,
    "jupyter": {
     "outputs_hidden": true
    },
    "tags": []
   },
   "outputs": [
    {
     "name": "stdout",
     "output_type": "stream",
     "text": [
      "Here are 33 short sentences that need elaboration, presented in a Python list format:\n",
      "\n",
      "short_sentences = [\n",
      "    \"The cat meowed.\",\n",
      "    \"She baked a cake.\",\n",
      "    \"Quantum mechanics is fascinating.\",\n",
      "    \"The team won the championship.\",\n",
      "    \"He wrote a novel.\",\n",
      "    \"Renewable energy is crucial.\",\n",
      "    \"She climbed the mountain.\",\n",
      "    \"The painting was a masterpiece.\",\n",
      "    \"Artificial intelligence is advancing rapidly.\",\n",
      "    \"They went on a road trip.\",\n",
      "    \"She composed a symphony.\",\n",
      "    \"The company launched a new product.\",\n",
      "    \"He solved the complex equation.\",\n",
      "    \"She discovered a new species.\",\n",
      "    \"The city was bustling with activity.\",\n",
      "    \"He mastered the martial art.\",\n",
      "    \"She won the Nobel Prize.\",\n",
      "    \"The ancient ruins were awe-inspiring.\",\n",
      "    \"He developed a groundbreaking theory.\",\n",
      "    \"She performed a daring rescue.\",\n",
      "    \"The startup company was a success.\",\n",
      "    \"He explored the depths of the ocean.\",\n",
      "    \"She designed an innovative product.\",\n",
      "    \"The political campaign was intense.\",\n",
      "    \"He made a scientific breakthrough.\",\n",
      "    \"She directed an acclaimed film.\",\n",
      "    \"The natural disaster caused widespread damage.\",\n",
      "    \"He wrote a best-selling book.\",\n",
      "    \"She founded a charitable organization.\",\n",
      "    \"The space mission was a triumph.\",\n",
      "    \"He created a revolutionary technology.\",\n",
      "    \"She won the prestigious award.\",\n",
      "    \"The archaeological discovery shed new light on history.\"\n",
      "]\n"
     ]
    }
   ],
   "source": [
    "print(r)"
   ]
  },
  {
   "cell_type": "code",
   "execution_count": 270,
   "id": "5ed649e8-0f54-4279-af4b-3aa47f547d45",
   "metadata": {
    "tags": []
   },
   "outputs": [],
   "source": [
    "r = get_completion(settings.model, bedrock_client, \"\"\"\n",
    "Generate 33 wikipedia entities (people, cities, whatever) that need elaboration in a python list format. Make the entities as diverse as possible.\n",
    "\"\"\"\n",
    ")"
   ]
  },
  {
   "cell_type": "code",
   "execution_count": 271,
   "id": "7ccd05c2-607e-43ae-9ce3-508258a8e50f",
   "metadata": {
    "collapsed": true,
    "jupyter": {
     "outputs_hidden": true
    },
    "tags": []
   },
   "outputs": [
    {
     "name": "stdout",
     "output_type": "stream",
     "text": [
      "Here's a Python list of 33 diverse Wikipedia entities that may need elaboration:\n",
      "\n",
      "entities = [\n",
      "    \"Genghis Khan\",\n",
      "    \"Machu Picchu\",\n",
      "    \"Quantum Entanglement\",\n",
      "    \"Frida Kahlo\",\n",
      "    \"Chernobyl Disaster\",\n",
      "    \"Stonehenge\",\n",
      "    \"Higgs Boson\",\n",
      "    \"Amelia Earhart\",\n",
      "    \"Bermuda Triangle\",\n",
      "    \"Rosetta Stone\",\n",
      "    \"Nikola Tesla\",\n",
      "    \"Angkor Wat\",\n",
      "    \"String Theory\",\n",
      "    \"Marie Curie\",\n",
      "    \"Voynich Manuscript\",\n",
      "    \"Tutankhamun\",\n",
      "    \"Fermat's Last Theorem\",\n",
      "    \"Cleopatra\",\n",
      "    \"Nazca Lines\",\n",
      "    \"Alan Turing\",\n",
      "    \"Mohenjo-daro\",\n",
      "    \"Schrodinger's Cat\",\n",
      "    \"Mata Hari\",\n",
      "    \"Easter Island\",\n",
      "    \"Fibonacci Sequence\",\n",
      "    \"Rasputin\",\n",
      "    \"Pyramids of Giza\",\n",
      "    \"Heisenberg's Uncertainty Principle\",\n",
      "    \"Terracotta Army\",\n",
      "    \"Pythagoras\",\n",
      "    \"Atlantis\",\n",
      "    \"Mona Lisa\",\n",
      "    \"Stonehenge\"\n",
      "]\n",
      "\n",
      "This list includes a diverse range of entities from various fields, such as historical figures, ancient civilizations, scientific concepts, unsolved mysteries, and famous artworks. Each of these entities has a rich background and significance that may require further elaboration or explanation.\n"
     ]
    }
   ],
   "source": [
    "print(r)"
   ]
  },
  {
   "cell_type": "code",
   "execution_count": 272,
   "id": "d0713fc6-188d-4829-9c15-e0ebf9c8ee49",
   "metadata": {
    "tags": []
   },
   "outputs": [],
   "source": [
    "r = get_completion(settings.model, bedrock_client, \"\"\"\n",
    "Generate 33 short text messages that need elaboration in a python list format. Make the sentences as diverse as possible.\n",
    "<example>\n",
    "<user>\n",
    "What are you doing tomorrow?\n",
    "<user>\n",
    "<assistant>\n",
    "Hey, I hope you are doing well, I am wondering what are you upto tomorrow?\n",
    "<assistant>\n",
    "<example>\n",
    "\"\"\"\n",
    ")"
   ]
  },
  {
   "cell_type": "code",
   "execution_count": 273,
   "id": "84ae5359-66c6-4951-9a9e-0958c6f48735",
   "metadata": {
    "collapsed": true,
    "jupyter": {
     "outputs_hidden": true
    },
    "tags": []
   },
   "outputs": [
    {
     "name": "stdout",
     "output_type": "stream",
     "text": [
      "Here are 33 short text messages that need elaboration, in a Python list format:\n",
      "\n",
      "messages = [\n",
      "    \"I have some news.\",\n",
      "    \"We need to talk.\",\n",
      "    \"I'm running late.\",\n",
      "    \"Did you see that?\",\n",
      "    \"I'm not feeling well.\",\n",
      "    \"I have a surprise for you.\",\n",
      "    \"I made a mistake.\",\n",
      "    \"I need your help.\",\n",
      "    \"I'm so excited!\",\n",
      "    \"I'm feeling down.\",\n",
      "    \"I have a question.\",\n",
      "    \"I have a confession.\",\n",
      "    \"I'm stuck.\",\n",
      "    \"I have a plan.\",\n",
      "    \"I'm worried.\",\n",
      "    \"I'm proud of you.\",\n",
      "    \"I'm disappointed.\",\n",
      "    \"I have a suggestion.\",\n",
      "    \"I'm confused.\",\n",
      "    \"I have a request.\",\n",
      "    \"I'm grateful.\",\n",
      "    \"I have a complaint.\",\n",
      "    \"I'm impressed.\",\n",
      "    \"I have a theory.\",\n",
      "    \"I'm curious.\",\n",
      "    \"I have a dilemma.\",\n",
      "    \"I'm frustrated.\",\n",
      "    \"I have a proposal.\",\n",
      "    \"I'm nostalgic.\",\n",
      "    \"I have a recommendation.\",\n",
      "    \"I'm optimistic.\",\n",
      "    \"I have a concern.\",\n",
      "    \"I'm intrigued.\"\n",
      "]\n"
     ]
    }
   ],
   "source": [
    "print(r)"
   ]
  },
  {
   "cell_type": "code",
   "execution_count": 274,
   "id": "0ab1c63c-1115-41b9-875b-7c1339f6c652",
   "metadata": {
    "tags": []
   },
   "outputs": [],
   "source": [
    "r = get_completion(settings.model, bedrock_client, 'Generate 100 sentences that need proofreading in a python list format. Make different kinds of grammatical, spelling and wording mistakes. Some easy to spot and some harder.')"
   ]
  },
  {
   "cell_type": "code",
   "execution_count": 275,
   "id": "0af825d0-403b-486d-a870-207c1401dc0c",
   "metadata": {
    "collapsed": true,
    "jupyter": {
     "outputs_hidden": true
    },
    "tags": []
   },
   "outputs": [
    {
     "name": "stdout",
     "output_type": "stream",
     "text": [
      "Here's a Python list containing 100 sentences with various types of grammatical, spelling, and wording mistakes:\n",
      "\n",
      "sentences = [\n",
      "    \"The quck brown fox jumps over the lazy dog.\",\n",
      "    \"I have went to the store yesterday.\",\n",
      "    \"He don't like to eat vegetables.\",\n",
      "    \"I'm going to lay down for a nap.\",\n",
      "    \"Their going to the park tomorrow.\",\n",
      "    \"She's a really good singer, don't you think?\",\n",
      "    \"I could of done better on the test.\",\n",
      "    \"I've been their before, it's a nice place.\",\n",
      "    \"He's one of the smartest person I know.\",\n",
      "    \"I've got alot of homework to do tonight.\",\n",
      "    \"Your going to love this movie, its hilarious!\",\n",
      "    \"I should of studied harder for the exam.\",\n",
      "    \"The cat layed on the couch all day.\",\n",
      "    \"I've already ate lunch, so I'm not hungry.\",\n",
      "    \"He's a really good athelete, he plays basketball and football.\",\n",
      "    \"I've been their once, but I don't remember much about it.\",\n",
      "    \"She's always been a quite person.\",\n",
      "    \"I'm going to try and loose some weight this summer.\",\n",
      "    \"I've got alot of things to do today.\",\n",
      "    \"He's one of the most smartest students in the class.\",\n",
      "    \"I've already drank two bottles of water today.\",\n",
      "    \"She's a really good singer, don't you think so?\",\n",
      "    \"I could of done better on that assignment.\",\n",
      "    \"I've been their before, but it was a long time ago.\",\n",
      "    \"He's one of the most funniest people I know.\",\n",
      "    \"I've got alot of chores to do around the house.\",\n",
      "    \"Your going to love this book, its really interesting!\",\n",
      "    \"I should of studied harder for the final exam.\",\n",
      "    \"The dog layed on the floor all night.\",\n",
      "    \"I've already ate dinner, so I'm not hungry.\",\n",
      "    \"He's a really good athelete, he plays soccer and baseball.\",\n",
      "    \"I've been their a few times, but never for very long.\",\n",
      "    \"She's always been a quite and shy person.\",\n",
      "    \"I'm going to try and loose some weight before the summer.\",\n",
      "    \"I've got alot of errands to run today.\",\n",
      "    \"He's one of the most smartest students in the entire school.\",\n",
      "    \"I've already drank three glasses of juice today.\",\n",
      "    \"She's a really good singer, don't you agree?\",\n",
      "    \"I could of done better on that project.\",\n",
      "    \"I've been their before, but I can't remember when.\",\n",
      "    \"He's one of the most funniest comedians I've ever seen.\",\n",
      "    \"I've got alot of laundry to do this weekend.\",\n",
      "    \"Your going to love this restaurant, its amazing!\",\n",
      "    \"I should of studied harder for the midterm exam.\",\n",
      "    \"The cat layed on the bed all morning.\",\n",
      "    \"I've already ate breakfast, so I'm not hungry.\",\n",
      "    \"He's a really good athelete, he plays tennis and golf.\",\n",
      "    \"I've been their a couple of times, but it's been a while.\",\n",
      "    \"She's always been a quite and reserved person.\",\n",
      "    \"I'm going to try and loose some weight before the wedding.\",\n",
      "    \"I've got alot of work to do this weekend.\",\n",
      "    \"He's one of the most smartest people I've ever met.\",\n",
      "    \"I've already drank four cups of coffee today.\",\n",
      "    \"She's a really good singer, don't you think she is?\",\n",
      "    \"I could of done better on that presentation.\",\n",
      "    \"I've been their before, but I don't remember where it was.\",\n",
      "    \"He's one of the most funniest stand-up comedians around.\",\n",
      "    \"I've got alot of cleaning to do around the house.\",\n",
      "    \"Your going to love this new restaurant, its delicious!\",\n",
      "    \"I should of studied harder for the final exam.\",\n",
      "    \"The dog layed on the couch all afternoon.\",\n",
      "    \"I've already ate lunch, so I'm not hungry.\",\n",
      "    \"He's a really good athelete, he plays hockey and lacrosse.\",\n",
      "    \"I've been their a few times, but never for very long.\",\n",
      "    \"She's always been a quite and shy person.\",\n",
      "    \"I'm going to try and loose some weight before the summer.\",\n",
      "    \"I've got alot of errands to run today.\",\n",
      "    \"He's one of the most smartest students in the entire school.\",\n",
      "    \"I've already drank three bottles of water today.\",\n",
      "    \"She's a really good singer, don't you think so?\",\n",
      "    \"I could of done better on that assignment.\",\n",
      "    \"I've been their before, but it was a long time ago.\",\n",
      "    \"He's one of the most funniest people I know.\",\n",
      "    \"I've got alot of chores to do around the house.\",\n",
      "    \"Your going to love this book, its really interesting!\",\n",
      "    \"I should of studied harder for the final exam.\",\n",
      "    \"The cat layed on the floor all night.\",\n",
      "    \"I've already ate dinner, so I'm not hungry.\",\n",
      "    \"He's a really good athelete, he plays soccer and baseball.\",\n",
      "    \"I've been their a few times, but never for very long.\",\n",
      "    \"She's always been a quite and reserved person.\",\n",
      "    \"I'm going to try and loose some weight before the wedding.\",\n",
      "    \"I've got alot of work to do this weekend.\",\n",
      "    \"He's one of the most smartest people I've ever met.\",\n",
      "    \"I've already drank four cups of coffee today.\",\n",
      "    \"She's a really good singer, don't you think she is?\",\n",
      "    \"I could of done better on that presentation.\",\n",
      "    \"I've been their before, but I don't remember where it was.\",\n",
      "    \"He's one of the most funniest stand-up comedians around.\",\n",
      "    \"I've got alot of cleaning to do around the house.\",\n",
      "    \"Your going to love this new restaurant, its delicious!\"\n",
      "]\n"
     ]
    }
   ],
   "source": [
    "print(r)"
   ]
  },
  {
   "cell_type": "code",
   "execution_count": 276,
   "id": "c91645db-477e-472a-a396-3b4c690232d2",
   "metadata": {
    "tags": []
   },
   "outputs": [],
   "source": [
    "r = get_completion(settings.model, bedrock_client, 'Generate 100 sentences that need to be improved to sound better in a python list format.')"
   ]
  },
  {
   "cell_type": "code",
   "execution_count": 277,
   "id": "fd362b7b-5ec8-493c-94d6-3f3a4f32bfdf",
   "metadata": {
    "collapsed": true,
    "jupyter": {
     "outputs_hidden": true
    },
    "tags": []
   },
   "outputs": [
    {
     "name": "stdout",
     "output_type": "stream",
     "text": [
      "Here are 100 sentences that need to be improved to sound better, in a Python list format:\n",
      "\n",
      "sentences = [\n",
      "    \"I'm going to the store to buy some groceries.\",\n",
      "    \"She was really happy about her new job.\",\n",
      "    \"The dog barked loudly at the mailman.\",\n",
      "    \"I don't like eating vegetables very much.\",\n",
      "    \"He studied hard for the exam.\",\n",
      "    \"The weather was nice and sunny today.\",\n",
      "    \"My favorite color is blue.\",\n",
      "    \"I enjoy reading books in my free time.\",\n",
      "    \"She has a beautiful singing voice.\",\n",
      "    \"The movie was really boring.\",\n",
      "    \"I'm not sure what to do this weekend.\",\n",
      "    \"He is a very talented artist.\",\n",
      "    \"The cat was sleeping on the couch.\",\n",
      "    \"I need to go to the gym more often.\",\n",
      "    \"She loves to travel and see new places.\",\n",
      "    \"The book was really interesting.\",\n",
      "    \"I don't like spicy food very much.\",\n",
      "    \"He is a great cook.\",\n",
      "    \"The car needs to be repaired.\",\n",
      "    \"I'm excited for the concert tonight.\",\n",
      "    \"She is a hard worker.\",\n",
      "    \"The beach was crowded today.\",\n",
      "    \"I need to buy a new pair of shoes.\",\n",
      "    \"He is a good friend.\",\n",
      "    \"The restaurant was very expensive.\",\n",
      "    \"I'm not feeling well today.\",\n",
      "    \"She is a great teacher.\",\n",
      "    \"The game was really exciting.\",\n",
      "    \"I don't like to wake up early.\",\n",
      "    \"He is a funny person.\",\n",
      "    \"The park was beautiful.\",\n",
      "    \"I need to clean my room.\",\n",
      "    \"She is a great cook.\",\n",
      "    \"The movie was really scary.\",\n",
      "    \"I don't like to exercise.\",\n",
      "    \"He is a good student.\",\n",
      "    \"The party was a lot of fun.\",\n",
      "    \"I need to buy a new computer.\",\n",
      "    \"She is a great dancer.\",\n",
      "    \"The book was really boring.\",\n",
      "    \"I don't like to drink coffee.\",\n",
      "    \"He is a good listener.\",\n",
      "    \"The concert was amazing.\",\n",
      "    \"I need to buy a new phone.\",\n",
      "    \"She is a great friend.\",\n",
      "    \"The game was really frustrating.\",\n",
      "    \"I don't like to stay up late.\",\n",
      "    \"He is a hard worker.\",\n",
      "    \"The movie was really funny.\",\n",
      "    \"I need to buy a new car.\",\n",
      "    \"She is a great artist.\",\n",
      "    \"The book was really interesting.\",\n",
      "    \"I don't like to eat fast food.\",\n",
      "    \"He is a good writer.\",\n",
      "    \"The party was a lot of fun.\",\n",
      "    \"I need to buy a new TV.\",\n",
      "    \"She is a great singer.\",\n",
      "    \"The game was really challenging.\",\n",
      "    \"I don't like to watch horror movies.\",\n",
      "    \"He is a good cook.\",\n",
      "    \"The beach was beautiful.\",\n",
      "    \"I need to buy a new laptop.\",\n",
      "    \"She is a great dancer.\",\n",
      "    \"The book was really boring.\",\n",
      "    \"I don't like to drink alcohol.\",\n",
      "    \"He is a good listener.\",\n",
      "    \"The concert was amazing.\",\n",
      "    \"I need to buy a new pair of jeans.\",\n",
      "    \"She is a great friend.\",\n",
      "    \"The game was really frustrating.\",\n",
      "    \"I don't like to stay up late.\",\n",
      "    \"He is a hard worker.\",\n",
      "    \"The movie was really funny.\",\n",
      "    \"I need to buy a new bike.\",\n",
      "    \"She is a great artist.\",\n",
      "    \"The book was really interesting.\",\n",
      "    \"I don't like to eat fast food.\",\n",
      "    \"He is a good writer.\",\n",
      "    \"The party was a lot of fun.\",\n",
      "    \"I need to buy a new TV.\",\n",
      "    \"She is a great singer.\",\n",
      "    \"The game was really challenging.\",\n",
      "    \"I don't like to watch horror movies.\",\n",
      "    \"He is a good cook.\",\n",
      "    \"The beach was beautiful.\",\n",
      "    \"I need to buy a new laptop.\",\n",
      "    \"She is a great dancer.\",\n",
      "    \"The book was really boring.\",\n",
      "    \"I don't like to drink alcohol.\",\n",
      "    \"He is a good listener.\",\n",
      "    \"The concert was amazing.\",\n",
      "    \"I need to buy a new pair of jeans.\",\n",
      "    \"She is a great friend.\",\n",
      "    \"The game was really frustrating.\",\n",
      "    \"I don't like to stay up late.\",\n",
      "    \"He is a hard worker.\",\n",
      "    \"The movie was really funny.\"\n",
      "]\n"
     ]
    }
   ],
   "source": [
    "print(r)"
   ]
  },
  {
   "cell_type": "code",
   "execution_count": 279,
   "id": "2e67347b-9d6e-4310-89f7-9659ba8653af",
   "metadata": {
    "tags": []
   },
   "outputs": [],
   "source": [
    "r = get_completion(settings.model, bedrock_client, 'I would like to create a training set for instruction finetuning for summarization of 100 pairs of paragraphs and their summaries. Can you write me the perfect prompt to generate these pairs?')"
   ]
  },
  {
   "cell_type": "code",
   "execution_count": 280,
   "id": "f30b4f23-862b-4652-9cd1-f98acdf07308",
   "metadata": {
    "tags": []
   },
   "outputs": [
    {
     "name": "stdout",
     "output_type": "stream",
     "text": [
      "Here's a comprehensive prompt to generate high-quality paragraph-summary pairs for training:\n",
      "\n",
      "\"Generate a training set of 100 different paragraph-summary pairs. For each pair:\n",
      "\n",
      "1. First, create a paragraph (150-300 words) about a diverse range of topics including:\n",
      "- Scientific discoveries\n",
      "- Historical events\n",
      "- Technological innovations\n",
      "- Cultural phenomena\n",
      "- Business cases\n",
      "- Environmental issues\n",
      "- Social movements\n",
      "- Biographical snippets\n",
      "- Current events\n",
      "- Academic concepts\n",
      "\n",
      "2. Then, provide a concise, informative summary (30-50 words) that:\n",
      "- Captures the main idea and key points\n",
      "- Maintains factual accuracy\n",
      "- Excludes unnecessary details\n",
      "- Uses clear, straightforward language\n",
      "- Avoids introducing new information\n",
      "\n",
      "Format each pair as:\n",
      "\n",
      "PARAGRAPH #[number]:\n",
      "[paragraph text]\n",
      "\n",
      "SUMMARY #[number]:\n",
      "[summary text]\n",
      "\n",
      "---\n",
      "\n",
      "Please ensure the paragraphs:\n",
      "- Are self-contained and coherent\n",
      "- Include specific details and examples\n",
      "- Vary in complexity and style\n",
      "- Are factually accurate\n",
      "- Use proper grammar and punctuation\n",
      "\n",
      "Generate 5 pairs at a time to maintain quality and variety.\"\n",
      "\n",
      "This prompt should help you generate high-quality, diverse training data suitable for summarization tasks.\n"
     ]
    }
   ],
   "source": [
    "print(r)"
   ]
  },
  {
   "cell_type": "code",
   "execution_count": 282,
   "id": "d95baf73-cc3a-4c9a-ad15-2172596971fe",
   "metadata": {
    "tags": []
   },
   "outputs": [],
   "source": [
    "r = get_completion(settings.model, bedrock_client, \n",
    "\"\"\"\n",
    "Generate a training set of 100 different paragraph-summary pairs. For each pair:\n",
    "\n",
    "1. First, create a paragraph (150-300 words) about a diverse range of topics including:\n",
    "- Scientific discoveries\n",
    "- Historical events\n",
    "- Technological innovations\n",
    "- Cultural phenomena\n",
    "- Business cases\n",
    "- Environmental issues\n",
    "- Social movements\n",
    "- Biographical snippets\n",
    "- Current events\n",
    "- Academic concepts\n",
    "\n",
    "2. Then, provide a concise, informative summary (30-50 words) that:\n",
    "- Captures the main idea and key points\n",
    "- Maintains factual accuracy\n",
    "- Excludes unnecessary details\n",
    "- Uses clear, straightforward language\n",
    "- Avoids introducing new information\n",
    "\n",
    "Format each pair as:\n",
    "\n",
    "<paragraph>\n",
    "[paragraph text]\n",
    "</paragraph>\n",
    "\n",
    "<summary>\n",
    "[summary text]\n",
    "</summary>\n",
    "\n",
    "---\n",
    "\n",
    "Please ensure the paragraphs:\n",
    "- Are self-contained and coherent\n",
    "- Include specific details and examples\n",
    "- Vary in complexity and style\n",
    "- Are factually accurate\n",
    "- Use proper grammar and punctuation\n",
    "\n",
    "Generate 5 pairs at a time to maintain quality and variety.\n",
    "\"\"\"\n",
    ")"
   ]
  },
  {
   "cell_type": "code",
   "execution_count": 283,
   "id": "339bb9bf-bcf2-493d-a4df-8fd9a9e74d83",
   "metadata": {
    "tags": []
   },
   "outputs": [
    {
     "name": "stdout",
     "output_type": "stream",
     "text": [
      "Here are the first 5 paragraph-summary pairs:\n",
      "\n",
      "1.\n",
      "<paragraph>\n",
      "In 1953, James Watson and Francis Crick made a groundbreaking discovery that would revolutionize our understanding of genetics. Through their analysis of X-ray crystallography data, particularly the work of Rosalind Franklin, they determined the double helix structure of DNA. This revelation explained how genetic information could be stored, copied, and passed down through generations. Their model showed that DNA consists of two strands of nucleotides coiled around each other, held together by base pairs adenine-thymine and guanine-cytosine. The discovery earned Watson, Crick, and Maurice Wilkins the 1962 Nobel Prize in Physiology or Medicine, though Franklin's crucial contributions went unrecognized due to her death from cancer in 1958 and the Nobel Committee's rules against posthumous awards.\n",
      "</paragraph>\n",
      "\n",
      "<summary>\n",
      "Watson and Crick discovered DNA's double helix structure in 1953, building on Franklin's X-ray data. This breakthrough revealed how genetic information is stored and transmitted, earning them and Wilkins the 1962 Nobel Prize, though Franklin's contributions went unrecognized.\n",
      "</summary>\n",
      "\n",
      "---\n",
      "\n",
      "2.\n",
      "<paragraph>\n",
      "The rise of TikTok represents one of the most significant shifts in social media history. Launched globally in 2018, the short-form video platform rapidly gained popularity, particularly among Generation Z users. Its algorithm-driven content delivery system and emphasis on creative expression through music, dance, and visual effects created a new paradigm for digital entertainment. By 2023, TikTok had amassed over 1 billion monthly active users worldwide, fundamentally changing how people consume and create content. The platform's influence extends beyond entertainment, impacting marketing strategies, political discourse, and even educational content delivery. However, its success has also raised concerns about data privacy, content moderation, and potential national security risks in various countries.\n",
      "</paragraph>\n",
      "\n",
      "<summary>\n",
      "TikTok's emergence since 2018 has transformed social media through its short-form video format and algorithm-driven content. With over 1 billion monthly users by 2023, it has revolutionized digital entertainment while raising privacy and security concerns.\n",
      "</summary>\n",
      "\n",
      "---\n",
      "\n",
      "3.\n",
      "<paragraph>\n",
      "The Industrial Revolution in Britain (1760-1840) marked a pivotal transformation in human history. This period saw unprecedented technological advancement, particularly in textile manufacturing, steam power, and iron production. The invention of the spinning jenny by James Hargreaves in 1764 dramatically increased textile production efficiency, while James Watt's improved steam engine in 1769 revolutionized manufacturing and transportation. These innovations led to massive urbanization as people moved from rural areas to cities for factory work. The period also brought significant social changes, including the rise of the middle class, new labor movements, and dramatic improvements in living standards, though it initially led to difficult working conditions and environmental pollution.\n",
      "</paragraph>\n",
      "\n",
      "<summary>\n",
      "The Industrial Revolution (1760-1840) transformed Britain through technological innovations in textiles, steam power, and manufacturing. This period sparked urbanization and social changes, creating both economic growth and new societal challenges.\n",
      "</summary>\n",
      "\n",
      "---\n",
      "\n",
      "4.\n",
      "<paragraph>\n",
      "The Great Barrier Reef, the world's largest coral reef system, faces unprecedented challenges due to climate change. Rising ocean temperatures have triggered mass coral bleaching events in 1998, 2002, 2016, 2017, and 2020, affecting vast areas of this UNESCO World Heritage site. When water temperatures exceed normal ranges, corals expel their symbiotic algae, leading to bleaching and potential death. Ocean acidification, caused by increasing atmospheric CO2 levels, further threatens the reef's calcium carbonate structure. Scientists estimate that without significant climate action, the reef could lose 95% of its coral by 2050, devastating marine biodiversity and the $6.4 billion tourism industry it supports.\n",
      "</paragraph>\n",
      "\n",
      "<summary>\n",
      "Climate change threatens the Great Barrier Reef through coral bleaching and ocean acidification. Multiple bleaching events since 1998 have damaged the ecosystem, endangering marine life and the tourism industry it supports.\n",
      "</summary>\n",
      "\n",
      "---\n",
      "\n",
      "5.\n",
      "<paragraph>\n",
      "Tesla's impact on the automotive industry extends far beyond its electric vehicles. Founded in 2003, the company revolutionized the perception of electric cars from eco-friendly compromises to desirable luxury vehicles. Under Elon Musk's leadership, Tesla introduced innovations like over-the-air software updates, advanced driver assistance systems, and direct-to-consumer sales models. The company's success forced traditional automakers to accelerate their electric vehicle programs, leading to increased competition and innovation in the sector. By 2021, Tesla had become the most valuable automotive company globally, despite producing fewer vehicles than many traditional manufacturers, demonstrating the market's faith in electric mobility's future.\n",
      "</paragraph>\n",
      "\n",
      "<summary>\n",
      "Tesla transformed the automotive industry by making electric vehicles desirable and introducing innovative features and sales models. Their success prompted traditional automakers to embrace electric vehicles and reshaped the industry's future.\n",
      "</summary>\n"
     ]
    }
   ],
   "source": [
    "print(r)"
   ]
  },
  {
   "cell_type": "code",
   "execution_count": 286,
   "id": "34b84219-556d-43f4-a2d8-9c990f8be6b5",
   "metadata": {
    "tags": []
   },
   "outputs": [],
   "source": [
    "r = get_completion(settings.model, bedrock_client, \n",
    "\"\"\"\n",
    "how do you programmatically parse the xml in python?\n",
    "Here are the first 5 paragraph-summary pairs:\n",
    "\n",
    "1.\n",
    "<paragraph>\n",
    "In 1953, James Watson and Francis Crick made a groundbreaking discovery that would revolutionize our understanding of genetics. Through their analysis of X-ray crystallography data, particularly the work of Rosalind Franklin, they determined the double helix structure of DNA. This revelation explained how genetic information could be stored, copied, and passed down through generations. Their model showed that DNA consists of two strands of nucleotides coiled around each other, held together by base pairs adenine-thymine and guanine-cytosine. The discovery earned Watson, Crick, and Maurice Wilkins the 1962 Nobel Prize in Physiology or Medicine, though Franklin's crucial contributions went unrecognized due to her death from cancer in 1958 and the Nobel Committee's rules against posthumous awards.\n",
    "</paragraph>\n",
    "\n",
    "<summary>\n",
    "Watson and Crick discovered DNA's double helix structure in 1953, building on Franklin's X-ray data. This breakthrough revealed how genetic information is stored and transmitted, earning them and Wilkins the 1962 Nobel Prize, though Franklin's contributions went unrecognized.\n",
    "</summary>\n",
    "\n",
    "---\n",
    "\n",
    "2.\n",
    "<paragraph>\n",
    "The rise of TikTok represents one of the most significant shifts in social media history. Launched globally in 2018, the short-form video platform rapidly gained popularity, particularly among Generation Z users. Its algorithm-driven content delivery system and emphasis on creative expression through music, dance, and visual effects created a new paradigm for digital entertainment. By 2023, TikTok had amassed over 1 billion monthly active users worldwide, fundamentally changing how people consume and create content. The platform's influence extends beyond entertainment, impacting marketing strategies, political discourse, and even educational content delivery. However, its success has also raised concerns about data privacy, content moderation, and potential national security risks in various countries.\n",
    "</paragraph>\n",
    "\n",
    "<summary>\n",
    "TikTok's emergence since 2018 has transformed social media through its short-form video format and algorithm-driven content. With over 1 billion monthly users by 2023, it has revolutionized digital entertainment while raising privacy and security concerns.\n",
    "</summary>\n",
    "\n",
    "---\n",
    "\n",
    "3.\n",
    "<paragraph>\n",
    "The Industrial Revolution in Britain (1760-1840) marked a pivotal transformation in human history. This period saw unprecedented technological advancement, particularly in textile manufacturing, steam power, and iron production. The invention of the spinning jenny by James Hargreaves in 1764 dramatically increased textile production efficiency, while James Watt's improved steam engine in 1769 revolutionized manufacturing and transportation. These innovations led to massive urbanization as people moved from rural areas to cities for factory work. The period also brought significant social changes, including the rise of the middle class, new labor movements, and dramatic improvements in living standards, though it initially led to difficult working conditions and environmental pollution.\n",
    "</paragraph>\n",
    "\n",
    "<summary>\n",
    "The Industrial Revolution (1760-1840) transformed Britain through technological innovations in textiles, steam power, and manufacturing. This period sparked urbanization and social changes, creating both economic growth and new societal challenges.\n",
    "</summary>\n",
    "\n",
    "---\n",
    "\n",
    "4.\n",
    "<paragraph>\n",
    "The Great Barrier Reef, the world's largest coral reef system, faces unprecedented challenges due to climate change. Rising ocean temperatures have triggered mass coral bleaching events in 1998, 2002, 2016, 2017, and 2020, affecting vast areas of this UNESCO World Heritage site. When water temperatures exceed normal ranges, corals expel their symbiotic algae, leading to bleaching and potential death. Ocean acidification, caused by increasing atmospheric CO2 levels, further threatens the reef's calcium carbonate structure. Scientists estimate that without significant climate action, the reef could lose 95% of its coral by 2050, devastating marine biodiversity and the $6.4 billion tourism industry it supports.\n",
    "</paragraph>\n",
    "\n",
    "<summary>\n",
    "Climate change threatens the Great Barrier Reef through coral bleaching and ocean acidification. Multiple bleaching events since 1998 have damaged the ecosystem, endangering marine life and the tourism industry it supports.\n",
    "</summary>\n",
    "\n",
    "---\n",
    "\n",
    "5.\n",
    "<paragraph>\n",
    "Tesla's impact on the automotive industry extends far beyond its electric vehicles. Founded in 2003, the company revolutionized the perception of electric cars from eco-friendly compromises to desirable luxury vehicles. Under Elon Musk's leadership, Tesla introduced innovations like over-the-air software updates, advanced driver assistance systems, and direct-to-consumer sales models. The company's success forced traditional automakers to accelerate their electric vehicle programs, leading to increased competition and innovation in the sector. By 2021, Tesla had become the most valuable automotive company globally, despite producing fewer vehicles than many traditional manufacturers, demonstrating the market's faith in electric mobility's future.\n",
    "</paragraph>\n",
    "\n",
    "<summary>\n",
    "Tesla transformed the automotive industry by making electric vehicles desirable and introducing innovative features and sales models. Their success prompted traditional automakers to embrace electric vehicles and reshaped the industry's future.\n",
    "</summary>\n",
    "\"\"\"\n",
    ")"
   ]
  },
  {
   "cell_type": "code",
   "execution_count": 287,
   "id": "98bf7f56-ea54-4bed-bad0-e9eca18058ce",
   "metadata": {
    "collapsed": true,
    "jupyter": {
     "outputs_hidden": true
    },
    "tags": []
   },
   "outputs": [
    {
     "name": "stdout",
     "output_type": "stream",
     "text": [
      "To parse this XML-like structure in Python, you can use libraries like `xml.etree.ElementTree` or `BeautifulSoup`. Here's an example using both approaches:\n",
      "\n",
      "1. Using `xml.etree.ElementTree`:\n",
      "```python\n",
      "import xml.etree.ElementTree as ET\n",
      "\n",
      "# For a single pair, wrap them in a root element to make it valid XML\n",
      "xml_text = \"\"\"\n",
      "<root>\n",
      "<paragraph>\n",
      "In 1953, James Watson and Francis Crick...\n",
      "</paragraph>\n",
      "<summary>\n",
      "Watson and Crick discovered DNA's double helix...\n",
      "</summary>\n",
      "</root>\n",
      "\"\"\"\n",
      "\n",
      "# Parse the XML\n",
      "root = ET.fromstring(xml_text)\n",
      "\n",
      "# Extract text\n",
      "paragraph = root.find('paragraph').text.strip()\n",
      "summary = root.find('summary').text.strip()\n",
      "```\n",
      "\n",
      "2. Using BeautifulSoup (more forgiving with malformed XML):\n",
      "```python\n",
      "from bs4 import BeautifulSoup\n",
      "\n",
      "# For multiple pairs\n",
      "text = \"\"\"\n",
      "<paragraph>\n",
      "In 1953, James Watson and Francis Crick...\n",
      "</paragraph>\n",
      "<summary>\n",
      "Watson and Crick discovered DNA's double helix...\n",
      "</summary>\n",
      "---\n",
      "<paragraph>\n",
      "The rise of TikTok represents...\n",
      "</paragraph>\n",
      "<summary>\n",
      "TikTok's emergence since 2018...\n",
      "</summary>\n",
      "\"\"\"\n",
      "\n",
      "# Parse all pairs\n",
      "pairs = []\n",
      "# Split by separator if multiple entries\n",
      "entries = text.split('---')\n",
      "\n",
      "for entry in entries:\n",
      "    soup = BeautifulSoup(entry, 'html.parser')\n",
      "    paragraph = soup.find('paragraph')\n",
      "    summary = soup.find('summary')\n",
      "    if paragraph and summary:\n",
      "        pairs.append({\n",
      "            'paragraph': paragraph.text.strip(),\n",
      "            'summary': summary.text.strip()\n",
      "        })\n",
      "\n",
      "# Access the pairs\n",
      "for pair in pairs:\n",
      "    print(\"Paragraph:\", pair['paragraph'])\n",
      "    print(\"Summary:\", pair['summary'])\n",
      "    print(\"---\")\n",
      "```\n",
      "\n",
      "The BeautifulSoup approach is generally more flexible and forgiving with the input format. It's particularly useful when dealing with potentially malformed XML or HTML-like structures. The ElementTree approach is better when working with strictly valid XML.\n",
      "\n",
      "If you're working with a file, you can read it first:\n",
      "```python\n",
      "with open('data.xml', 'r') as file:\n",
      "    text = file.read()\n",
      "```\n",
      "\n",
      "Then process it using either of the above methods.\n"
     ]
    }
   ],
   "source": [
    "print(r)"
   ]
  },
  {
   "cell_type": "code",
   "execution_count": 288,
   "id": "a4217356-48d3-4282-9991-a0169343baaa",
   "metadata": {
    "tags": []
   },
   "outputs": [],
   "source": [
    "r = \"\"\"\n",
    "Here are the first 5 paragraph-summary pairs:\n",
    "\n",
    "1.\n",
    "<paragraph>\n",
    "In 1953, James Watson and Francis Crick made a groundbreaking discovery that would revolutionize our understanding of genetics. Through their analysis of X-ray crystallography data, particularly the work of Rosalind Franklin, they determined the double helix structure of DNA. This revelation explained how genetic information could be stored, copied, and passed down through generations. Their model showed that DNA consists of two strands of nucleotides coiled around each other, held together by base pairs adenine-thymine and guanine-cytosine. The discovery earned Watson, Crick, and Maurice Wilkins the 1962 Nobel Prize in Physiology or Medicine, though Franklin's crucial contributions went unrecognized due to her death from cancer in 1958 and the Nobel Committee's rules against posthumous awards.\n",
    "</paragraph>\n",
    "\n",
    "<summary>\n",
    "Watson and Crick discovered DNA's double helix structure in 1953, building on Franklin's X-ray data. This breakthrough revealed how genetic information is stored and transmitted, earning them and Wilkins the 1962 Nobel Prize, though Franklin's contributions went unrecognized.\n",
    "</summary>\n",
    "\n",
    "---\n",
    "\n",
    "2.\n",
    "<paragraph>\n",
    "The rise of TikTok represents one of the most significant shifts in social media history. Launched globally in 2018, the short-form video platform rapidly gained popularity, particularly among Generation Z users. Its algorithm-driven content delivery system and emphasis on creative expression through music, dance, and visual effects created a new paradigm for digital entertainment. By 2023, TikTok had amassed over 1 billion monthly active users worldwide, fundamentally changing how people consume and create content. The platform's influence extends beyond entertainment, impacting marketing strategies, political discourse, and even educational content delivery. However, its success has also raised concerns about data privacy, content moderation, and potential national security risks in various countries.\n",
    "</paragraph>\n",
    "\n",
    "<summary>\n",
    "TikTok's emergence since 2018 has transformed social media through its short-form video format and algorithm-driven content. With over 1 billion monthly users by 2023, it has revolutionized digital entertainment while raising privacy and security concerns.\n",
    "</summary>\n",
    "\n",
    "---\n",
    "\n",
    "3.\n",
    "<paragraph>\n",
    "The Industrial Revolution in Britain (1760-1840) marked a pivotal transformation in human history. This period saw unprecedented technological advancement, particularly in textile manufacturing, steam power, and iron production. The invention of the spinning jenny by James Hargreaves in 1764 dramatically increased textile production efficiency, while James Watt's improved steam engine in 1769 revolutionized manufacturing and transportation. These innovations led to massive urbanization as people moved from rural areas to cities for factory work. The period also brought significant social changes, including the rise of the middle class, new labor movements, and dramatic improvements in living standards, though it initially led to difficult working conditions and environmental pollution.\n",
    "</paragraph>\n",
    "\n",
    "<summary>\n",
    "The Industrial Revolution (1760-1840) transformed Britain through technological innovations in textiles, steam power, and manufacturing. This period sparked urbanization and social changes, creating both economic growth and new societal challenges.\n",
    "</summary>\n",
    "\n",
    "---\n",
    "\n",
    "4.\n",
    "<paragraph>\n",
    "The Great Barrier Reef, the world's largest coral reef system, faces unprecedented challenges due to climate change. Rising ocean temperatures have triggered mass coral bleaching events in 1998, 2002, 2016, 2017, and 2020, affecting vast areas of this UNESCO World Heritage site. When water temperatures exceed normal ranges, corals expel their symbiotic algae, leading to bleaching and potential death. Ocean acidification, caused by increasing atmospheric CO2 levels, further threatens the reef's calcium carbonate structure. Scientists estimate that without significant climate action, the reef could lose 95% of its coral by 2050, devastating marine biodiversity and the $6.4 billion tourism industry it supports.\n",
    "</paragraph>\n",
    "\n",
    "<summary>\n",
    "Climate change threatens the Great Barrier Reef through coral bleaching and ocean acidification. Multiple bleaching events since 1998 have damaged the ecosystem, endangering marine life and the tourism industry it supports.\n",
    "</summary>\n",
    "\n",
    "---\n",
    "\n",
    "5.\n",
    "<paragraph>\n",
    "Tesla's impact on the automotive industry extends far beyond its electric vehicles. Founded in 2003, the company revolutionized the perception of electric cars from eco-friendly compromises to desirable luxury vehicles. Under Elon Musk's leadership, Tesla introduced innovations like over-the-air software updates, advanced driver assistance systems, and direct-to-consumer sales models. The company's success forced traditional automakers to accelerate their electric vehicle programs, leading to increased competition and innovation in the sector. By 2021, Tesla had become the most valuable automotive company globally, despite producing fewer vehicles than many traditional manufacturers, demonstrating the market's faith in electric mobility's future.\n",
    "</paragraph>\n",
    "\n",
    "<summary>\n",
    "Tesla transformed the automotive industry by making electric vehicles desirable and introducing innovative features and sales models. Their success prompted traditional automakers to embrace electric vehicles and reshaped the industry's future.\n",
    "</summary>\n",
    "\"\"\""
   ]
  },
  {
   "cell_type": "code",
   "execution_count": 291,
   "id": "29fda43e-63bf-454a-a714-9d0d5aba86b4",
   "metadata": {
    "collapsed": true,
    "jupyter": {
     "outputs_hidden": true
    },
    "tags": []
   },
   "outputs": [
    {
     "data": {
      "text/plain": [
       "[{'paragraph': \"In 1953, James Watson and Francis Crick made a groundbreaking discovery that would revolutionize our understanding of genetics. Through their analysis of X-ray crystallography data, particularly the work of Rosalind Franklin, they determined the double helix structure of DNA. This revelation explained how genetic information could be stored, copied, and passed down through generations. Their model showed that DNA consists of two strands of nucleotides coiled around each other, held together by base pairs adenine-thymine and guanine-cytosine. The discovery earned Watson, Crick, and Maurice Wilkins the 1962 Nobel Prize in Physiology or Medicine, though Franklin's crucial contributions went unrecognized due to her death from cancer in 1958 and the Nobel Committee's rules against posthumous awards.\",\n",
       "  'summary': \"Watson and Crick discovered DNA's double helix structure in 1953, building on Franklin's X-ray data. This breakthrough revealed how genetic information is stored and transmitted, earning them and Wilkins the 1962 Nobel Prize, though Franklin's contributions went unrecognized.\"},\n",
       " {'paragraph': \"The rise of TikTok represents one of the most significant shifts in social media history. Launched globally in 2018, the short-form video platform rapidly gained popularity, particularly among Generation Z users. Its algorithm-driven content delivery system and emphasis on creative expression through music, dance, and visual effects created a new paradigm for digital entertainment. By 2023, TikTok had amassed over 1 billion monthly active users worldwide, fundamentally changing how people consume and create content. The platform's influence extends beyond entertainment, impacting marketing strategies, political discourse, and even educational content delivery. However, its success has also raised concerns about data privacy, content moderation, and potential national security risks in various countries.\",\n",
       "  'summary': \"TikTok's emergence since 2018 has transformed social media through its short-form video format and algorithm-driven content. With over 1 billion monthly users by 2023, it has revolutionized digital entertainment while raising privacy and security concerns.\"},\n",
       " {'paragraph': \"The Industrial Revolution in Britain (1760-1840) marked a pivotal transformation in human history. This period saw unprecedented technological advancement, particularly in textile manufacturing, steam power, and iron production. The invention of the spinning jenny by James Hargreaves in 1764 dramatically increased textile production efficiency, while James Watt's improved steam engine in 1769 revolutionized manufacturing and transportation. These innovations led to massive urbanization as people moved from rural areas to cities for factory work. The period also brought significant social changes, including the rise of the middle class, new labor movements, and dramatic improvements in living standards, though it initially led to difficult working conditions and environmental pollution.\",\n",
       "  'summary': 'The Industrial Revolution (1760-1840) transformed Britain through technological innovations in textiles, steam power, and manufacturing. This period sparked urbanization and social changes, creating both economic growth and new societal challenges.'},\n",
       " {'paragraph': \"The Great Barrier Reef, the world's largest coral reef system, faces unprecedented challenges due to climate change. Rising ocean temperatures have triggered mass coral bleaching events in 1998, 2002, 2016, 2017, and 2020, affecting vast areas of this UNESCO World Heritage site. When water temperatures exceed normal ranges, corals expel their symbiotic algae, leading to bleaching and potential death. Ocean acidification, caused by increasing atmospheric CO2 levels, further threatens the reef's calcium carbonate structure. Scientists estimate that without significant climate action, the reef could lose 95% of its coral by 2050, devastating marine biodiversity and the $6.4 billion tourism industry it supports.\",\n",
       "  'summary': 'Climate change threatens the Great Barrier Reef through coral bleaching and ocean acidification. Multiple bleaching events since 1998 have damaged the ecosystem, endangering marine life and the tourism industry it supports.'},\n",
       " {'paragraph': \"Tesla's impact on the automotive industry extends far beyond its electric vehicles. Founded in 2003, the company revolutionized the perception of electric cars from eco-friendly compromises to desirable luxury vehicles. Under Elon Musk's leadership, Tesla introduced innovations like over-the-air software updates, advanced driver assistance systems, and direct-to-consumer sales models. The company's success forced traditional automakers to accelerate their electric vehicle programs, leading to increased competition and innovation in the sector. By 2021, Tesla had become the most valuable automotive company globally, despite producing fewer vehicles than many traditional manufacturers, demonstrating the market's faith in electric mobility's future.\",\n",
       "  'summary': \"Tesla transformed the automotive industry by making electric vehicles desirable and introducing innovative features and sales models. Their success prompted traditional automakers to embrace electric vehicles and reshaped the industry's future.\"}]"
      ]
     },
     "execution_count": 291,
     "metadata": {},
     "output_type": "execute_result"
    }
   ],
   "source": [
    "from bs4 import BeautifulSoup\n",
    "\n",
    "# Parse all pairs\n",
    "pairs = []\n",
    "# Split by separator if multiple entries\n",
    "entries = r.split('---')\n",
    "\n",
    "for entry in entries:\n",
    "    soup = BeautifulSoup(entry, 'html.parser')\n",
    "    paragraph = soup.find('paragraph')\n",
    "    summary = soup.find('summary')\n",
    "    if paragraph and summary:\n",
    "        pairs.append({\n",
    "            'paragraph': paragraph.text.strip(),\n",
    "            'summary': summary.text.strip()\n",
    "        })"
   ]
  },
  {
   "cell_type": "code",
   "execution_count": 293,
   "id": "a84ab671-9b74-4f1e-9269-1e3dd4e27cfd",
   "metadata": {
    "tags": []
   },
   "outputs": [
    {
     "name": "stderr",
     "output_type": "stream",
     "text": [
      "/home/ec2-user/anaconda3/envs/pytorch_p310/lib/python3.10/site-packages/fsspec/registry.py:279: UserWarning: Your installed version of s3fs is very old and known to cause\n",
      "severe performance issues, see also https://github.com/dask/dask/issues/10276\n",
      "\n",
      "To fix, you should specify a lower version bound on s3fs, or\n",
      "update the current installation.\n",
      "\n",
      "  warnings.warn(s3_msg)\n"
     ]
    }
   ],
   "source": [
    "pd.DataFrame(pairs).to_parquet(\"s3://sagemaker-us-east-1-556355475761/llm-finetuning/data/tones/shorten-train-small.parquet\")"
   ]
  },
  {
   "cell_type": "code",
   "execution_count": 294,
   "id": "f682c29a-0a79-44de-86fc-1b6be53c4621",
   "metadata": {
    "tags": []
   },
   "outputs": [],
   "source": [
    "r = get_completion(settings.model, bedrock_client, \n",
    "\"\"\"\n",
    "Generate a training set of 100 different paragraph-summary pairs. For each pair:\n",
    "\n",
    "1. First, create a paragraph (150-300 words) about a diverse range of topics including:\n",
    "- Scientific discoveries\n",
    "- Historical events\n",
    "- Technological innovations\n",
    "- Cultural phenomena\n",
    "- Business cases\n",
    "- Environmental issues\n",
    "- Social movements\n",
    "- Biographical snippets\n",
    "- Current events\n",
    "- Academic concepts\n",
    "\n",
    "2. Then, provide a concise, informative summary (30-50 words) that:\n",
    "- Captures the main idea and key points\n",
    "- Maintains factual accuracy\n",
    "- Excludes unnecessary details\n",
    "- Uses clear, straightforward language\n",
    "- Avoids introducing new information\n",
    "\n",
    "Format each pair as:\n",
    "\n",
    "<paragraph>\n",
    "[paragraph text]\n",
    "</paragraph>\n",
    "\n",
    "<summary>\n",
    "[summary text]\n",
    "</summary>\n",
    "\n",
    "---\n",
    "\n",
    "Please ensure the paragraphs:\n",
    "- Are self-contained and coherent\n",
    "- Include specific details and examples\n",
    "- Vary in complexity and style\n",
    "- Are factually accurate\n",
    "- Use proper grammar and punctuation\n",
    "\n",
    "Generate 5 pairs at a time to maintain quality and variety.\n",
    "\"\"\"\n",
    ")"
   ]
  },
  {
   "cell_type": "code",
   "execution_count": 295,
   "id": "6c0942ad-d431-4550-803a-f5450ca0dc42",
   "metadata": {
    "tags": []
   },
   "outputs": [],
   "source": [
    "from bs4 import BeautifulSoup\n",
    "\n",
    "# Parse all pairs\n",
    "pairs = []\n",
    "# Split by separator if multiple entries\n",
    "entries = r.split('---')\n",
    "\n",
    "for entry in entries:\n",
    "    soup = BeautifulSoup(entry, 'html.parser')\n",
    "    paragraph = soup.find('paragraph')\n",
    "    summary = soup.find('summary')\n",
    "    if paragraph and summary:\n",
    "        pairs.append({\n",
    "            'paragraph': paragraph.text.strip(),\n",
    "            'summary': summary.text.strip()\n",
    "        })"
   ]
  },
  {
   "cell_type": "code",
   "execution_count": 296,
   "id": "b8c9dad7-8d35-4b5f-b746-c3d97292fb24",
   "metadata": {
    "collapsed": true,
    "jupyter": {
     "outputs_hidden": true
    },
    "tags": []
   },
   "outputs": [
    {
     "data": {
      "text/plain": [
       "[{'paragraph': \"The discovery of penicillin by Alexander Fleming in 1928 was one of the most significant accidents in medical history. While examining Staphylococcus culture plates, Fleming noticed that mold had contaminated one of the plates and created a bacteria-free zone around it. This mold, later identified as Penicillium notatum, produced a substance that killed various disease-causing bacteria. However, it wasn't until the late 1930s and early 1940s that Howard Florey, Ernst Chain, and their team developed methods to produce penicillin in quantities sufficient for clinical use. Their work, accelerated by the demands of World War II, launched the modern age of antibiotics and has saved countless lives by treating previously deadly bacterial infections.\",\n",
       "  'summary': \"Alexander Fleming's accidental discovery of penicillin in 1928, followed by its development into a usable antibiotic by Florey and Chain in the 1940s, revolutionized medicine by providing the first effective treatment for bacterial infections.\"},\n",
       " {'paragraph': 'The rise of K-pop as a global cultural phenomenon represents a remarkable shift in the entertainment industry. Beginning in the 1990s, South Korean entertainment companies developed a systematic approach to creating and marketing pop artists, combining rigorous training programs, sophisticated production values, and strategic use of social media. Groups like BTS and BLACKPINK have transcended language barriers, achieving unprecedented international success. Their impact extends beyond music to influence fashion, beauty standards, and cultural diplomacy. The Korean Wave, or \"Hallyu,\" has generated billions in revenue and significantly boosted South Korea\\'s soft power, transforming the country from a cultural importer to a major cultural exporter in just a few decades.',\n",
       "  'summary': \"K-pop evolved from a local music genre to a global cultural force through systematic artist development and marketing, exemplified by groups like BTS and BLACKPINK, significantly impacting entertainment, fashion, and South Korea's global influence.\"},\n",
       " {'paragraph': 'The development of CRISPR gene editing technology has revolutionized genetic research and medical possibilities. Discovered through studying bacterial immune systems, CRISPR-Cas9 acts like molecular scissors, allowing scientists to precisely cut and modify DNA sequences. Jennifer Doudna and Emmanuelle Charpentier, who won the 2020 Nobel Prize in Chemistry for their work, demonstrated how this bacterial defense mechanism could be reprogrammed to edit genes in any organism. The technology has applications ranging from treating genetic diseases to developing more resilient crops. However, it has also sparked ethical debates, particularly regarding its potential use in human embryos and the creation of \"designer babies.\"',\n",
       "  'summary': 'CRISPR gene editing, discovered through bacterial research and developed by Nobel laureates Doudna and Charpentier, enables precise DNA modification with wide-ranging applications in medicine and agriculture, while raising ethical concerns.'},\n",
       " {'paragraph': 'The Great Pacific Garbage Patch, located between Hawaii and California, represents one of the largest environmental challenges of our time. This massive collection of marine debris, primarily consisting of microplastics and other non-biodegradable materials, spans an area roughly three times the size of France. Ocean currents concentrate these materials in this region, creating a soup of plastic particles that threatens marine life through entanglement and ingestion. The patch continues to grow as global plastic production increases, with an estimated 8 million metric tons of plastic entering the oceans annually. Various organizations are developing technologies to clean the patch, but experts agree that preventing plastic pollution at its source is crucial.',\n",
       "  'summary': 'The Great Pacific Garbage Patch is a massive concentration of marine plastic debris threatening ocean ecosystems. Despite cleanup efforts, its growth continues due to ongoing plastic pollution, emphasizing the need for prevention.'},\n",
       " {'paragraph': \"Tesla's disruption of the automotive industry marks a pivotal moment in transportation history. Founded in 2003, the company transformed electric vehicles from niche products into desirable, high-performance cars. Under Elon Musk's leadership, Tesla's innovative approach combined cutting-edge battery technology, over-the-air software updates, and direct-to-consumer sales models. The success of the Model S, followed by more affordable options like the Model 3, forced traditional automakers to accelerate their electric vehicle programs. Beyond cars, Tesla's influence extends to energy storage solutions and solar power, contributing to the broader transition toward sustainable energy.\",\n",
       "  'summary': 'Tesla revolutionized the automotive industry by making electric vehicles mainstream through technological innovation and new business models, compelling traditional manufacturers to embrace electrification while expanding into sustainable energy solutions.'}]"
      ]
     },
     "execution_count": 296,
     "metadata": {},
     "output_type": "execute_result"
    }
   ],
   "source": [
    "pairs"
   ]
  }
 ],
 "metadata": {
  "kernelspec": {
   "display_name": "Python 3 (ipykernel)",
   "language": "python",
   "name": "python3"
  },
  "language_info": {
   "codemirror_mode": {
    "name": "ipython",
    "version": 3
   },
   "file_extension": ".py",
   "mimetype": "text/x-python",
   "name": "python",
   "nbconvert_exporter": "python",
   "pygments_lexer": "ipython3",
   "version": "3.12.3"
  }
 },
 "nbformat": 4,
 "nbformat_minor": 5
}
