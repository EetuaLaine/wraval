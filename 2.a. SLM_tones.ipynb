{
 "cells": [
  {
   "cell_type": "code",
   "execution_count": 3,
   "id": "0918c2b4-a8a2-47df-9c80-4267e2f26193",
   "metadata": {},
   "outputs": [
    {
     "name": "stdout",
     "output_type": "stream",
     "text": [
      "Requirement already satisfied: tqdm==4.66.4 in /Users/gbndict/.local/share/mise/installs/python/3.12.3/lib/python3.12/site-packages (from -r requirements.txt (line 1)) (4.66.4)\n",
      "Collecting numpy==2.2.2 (from -r requirements.txt (line 2))\n",
      "  Using cached numpy-2.2.2-cp312-cp312-macosx_14_0_arm64.whl.metadata (62 kB)\n",
      "Requirement already satisfied: pandas==2.2.3 in /Users/gbndict/.local/share/mise/installs/python/3.12.3/lib/python3.12/site-packages (from -r requirements.txt (line 3)) (2.2.3)\n",
      "Requirement already satisfied: beautifulsoup4==4.12.3 in /Users/gbndict/.local/share/mise/installs/python/3.12.3/lib/python3.12/site-packages (from -r requirements.txt (line 4)) (4.12.3)\n",
      "Requirement already satisfied: boto3==1.34.143 in /Users/gbndict/.local/share/mise/installs/python/3.12.3/lib/python3.12/site-packages (from -r requirements.txt (line 5)) (1.34.143)\n",
      "Requirement already satisfied: plotly==5.24.1 in /Users/gbndict/.local/share/mise/installs/python/3.12.3/lib/python3.12/site-packages (from -r requirements.txt (line 6)) (5.24.1)\n",
      "Collecting transformers==4.48.1 (from -r requirements.txt (line 7))\n",
      "  Using cached transformers-4.48.1-py3-none-any.whl.metadata (44 kB)\n",
      "Collecting datasets==3.2.0 (from -r requirements.txt (line 8))\n",
      "  Using cached datasets-3.2.0-py3-none-any.whl.metadata (20 kB)\n",
      "Collecting evaluate==0.4.3 (from -r requirements.txt (line 9))\n",
      "  Using cached evaluate-0.4.3-py3-none-any.whl.metadata (9.2 kB)\n",
      "Requirement already satisfied: dynaconf==3.2.7 in /Users/gbndict/.local/share/mise/installs/python/3.12.3/lib/python3.12/site-packages (from -r requirements.txt (line 10)) (3.2.7)\n",
      "Requirement already satisfied: python-dateutil>=2.8.2 in /Users/gbndict/.local/share/mise/installs/python/3.12.3/lib/python3.12/site-packages (from pandas==2.2.3->-r requirements.txt (line 3)) (2.9.0.post0)\n",
      "Requirement already satisfied: pytz>=2020.1 in /Users/gbndict/.local/share/mise/installs/python/3.12.3/lib/python3.12/site-packages (from pandas==2.2.3->-r requirements.txt (line 3)) (2024.1)\n",
      "Requirement already satisfied: tzdata>=2022.7 in /Users/gbndict/.local/share/mise/installs/python/3.12.3/lib/python3.12/site-packages (from pandas==2.2.3->-r requirements.txt (line 3)) (2024.1)\n",
      "Requirement already satisfied: soupsieve>1.2 in /Users/gbndict/.local/share/mise/installs/python/3.12.3/lib/python3.12/site-packages (from beautifulsoup4==4.12.3->-r requirements.txt (line 4)) (2.5)\n",
      "Collecting botocore<1.35.0,>=1.34.143 (from boto3==1.34.143->-r requirements.txt (line 5))\n",
      "  Downloading botocore-1.34.162-py3-none-any.whl.metadata (5.7 kB)\n",
      "Requirement already satisfied: jmespath<2.0.0,>=0.7.1 in /Users/gbndict/.local/share/mise/installs/python/3.12.3/lib/python3.12/site-packages (from boto3==1.34.143->-r requirements.txt (line 5)) (1.0.1)\n",
      "Requirement already satisfied: s3transfer<0.11.0,>=0.10.0 in /Users/gbndict/.local/share/mise/installs/python/3.12.3/lib/python3.12/site-packages (from boto3==1.34.143->-r requirements.txt (line 5)) (0.10.2)\n",
      "Requirement already satisfied: tenacity>=6.2.0 in /Users/gbndict/.local/share/mise/installs/python/3.12.3/lib/python3.12/site-packages (from plotly==5.24.1->-r requirements.txt (line 6)) (8.3.0)\n",
      "Requirement already satisfied: packaging in /Users/gbndict/.local/share/mise/installs/python/3.12.3/lib/python3.12/site-packages (from plotly==5.24.1->-r requirements.txt (line 6)) (24.0)\n",
      "Requirement already satisfied: filelock in /Users/gbndict/.local/share/mise/installs/python/3.12.3/lib/python3.12/site-packages (from transformers==4.48.1->-r requirements.txt (line 7)) (3.14.0)\n",
      "Requirement already satisfied: huggingface-hub<1.0,>=0.24.0 in /Users/gbndict/.local/share/mise/installs/python/3.12.3/lib/python3.12/site-packages (from transformers==4.48.1->-r requirements.txt (line 7)) (0.24.7)\n",
      "Requirement already satisfied: pyyaml>=5.1 in /Users/gbndict/.local/share/mise/installs/python/3.12.3/lib/python3.12/site-packages (from transformers==4.48.1->-r requirements.txt (line 7)) (6.0.1)\n",
      "Requirement already satisfied: regex!=2019.12.17 in /Users/gbndict/.local/share/mise/installs/python/3.12.3/lib/python3.12/site-packages (from transformers==4.48.1->-r requirements.txt (line 7)) (2024.5.10)\n",
      "Requirement already satisfied: requests in /Users/gbndict/.local/share/mise/installs/python/3.12.3/lib/python3.12/site-packages (from transformers==4.48.1->-r requirements.txt (line 7)) (2.31.0)\n",
      "Collecting tokenizers<0.22,>=0.21 (from transformers==4.48.1->-r requirements.txt (line 7))\n",
      "  Downloading tokenizers-0.21.0-cp39-abi3-macosx_11_0_arm64.whl.metadata (6.7 kB)\n",
      "Requirement already satisfied: safetensors>=0.4.1 in /Users/gbndict/.local/share/mise/installs/python/3.12.3/lib/python3.12/site-packages (from transformers==4.48.1->-r requirements.txt (line 7)) (0.4.3)\n",
      "Requirement already satisfied: pyarrow>=15.0.0 in /Users/gbndict/.local/share/mise/installs/python/3.12.3/lib/python3.12/site-packages (from datasets==3.2.0->-r requirements.txt (line 8)) (16.1.0)\n",
      "Collecting dill<0.3.9,>=0.3.0 (from datasets==3.2.0->-r requirements.txt (line 8))\n",
      "  Downloading dill-0.3.8-py3-none-any.whl.metadata (10 kB)\n",
      "Collecting requests (from transformers==4.48.1->-r requirements.txt (line 7))\n",
      "  Downloading requests-2.32.3-py3-none-any.whl.metadata (4.6 kB)\n",
      "Collecting xxhash (from datasets==3.2.0->-r requirements.txt (line 8))\n",
      "  Downloading xxhash-3.5.0-cp312-cp312-macosx_11_0_arm64.whl.metadata (12 kB)\n",
      "Collecting multiprocess<0.70.17 (from datasets==3.2.0->-r requirements.txt (line 8))\n",
      "  Downloading multiprocess-0.70.16-py312-none-any.whl.metadata (7.2 kB)\n",
      "Collecting fsspec<=2024.9.0,>=2023.1.0 (from fsspec[http]<=2024.9.0,>=2023.1.0->datasets==3.2.0->-r requirements.txt (line 8))\n",
      "  Downloading fsspec-2024.9.0-py3-none-any.whl.metadata (11 kB)\n",
      "Requirement already satisfied: aiohttp in /Users/gbndict/.local/share/mise/installs/python/3.12.3/lib/python3.12/site-packages (from datasets==3.2.0->-r requirements.txt (line 8)) (3.10.5)\n",
      "Requirement already satisfied: urllib3!=2.2.0,<3,>=1.25.4 in /Users/gbndict/.local/share/mise/installs/python/3.12.3/lib/python3.12/site-packages (from botocore<1.35.0,>=1.34.143->boto3==1.34.143->-r requirements.txt (line 5)) (2.2.1)\n",
      "Requirement already satisfied: aiohappyeyeballs>=2.3.0 in /Users/gbndict/.local/share/mise/installs/python/3.12.3/lib/python3.12/site-packages (from aiohttp->datasets==3.2.0->-r requirements.txt (line 8)) (2.4.0)\n",
      "Requirement already satisfied: aiosignal>=1.1.2 in /Users/gbndict/.local/share/mise/installs/python/3.12.3/lib/python3.12/site-packages (from aiohttp->datasets==3.2.0->-r requirements.txt (line 8)) (1.3.1)\n",
      "Requirement already satisfied: attrs>=17.3.0 in /Users/gbndict/.local/share/mise/installs/python/3.12.3/lib/python3.12/site-packages (from aiohttp->datasets==3.2.0->-r requirements.txt (line 8)) (23.2.0)\n",
      "Requirement already satisfied: frozenlist>=1.1.1 in /Users/gbndict/.local/share/mise/installs/python/3.12.3/lib/python3.12/site-packages (from aiohttp->datasets==3.2.0->-r requirements.txt (line 8)) (1.4.1)\n",
      "Requirement already satisfied: multidict<7.0,>=4.5 in /Users/gbndict/.local/share/mise/installs/python/3.12.3/lib/python3.12/site-packages (from aiohttp->datasets==3.2.0->-r requirements.txt (line 8)) (6.0.5)\n",
      "Requirement already satisfied: yarl<2.0,>=1.0 in /Users/gbndict/.local/share/mise/installs/python/3.12.3/lib/python3.12/site-packages (from aiohttp->datasets==3.2.0->-r requirements.txt (line 8)) (1.9.4)\n",
      "Requirement already satisfied: typing-extensions>=3.7.4.3 in /Users/gbndict/.local/share/mise/installs/python/3.12.3/lib/python3.12/site-packages (from huggingface-hub<1.0,>=0.24.0->transformers==4.48.1->-r requirements.txt (line 7)) (4.11.0)\n",
      "Requirement already satisfied: six>=1.5 in /Users/gbndict/.local/share/mise/installs/python/3.12.3/lib/python3.12/site-packages (from python-dateutil>=2.8.2->pandas==2.2.3->-r requirements.txt (line 3)) (1.16.0)\n",
      "Requirement already satisfied: charset-normalizer<4,>=2 in /Users/gbndict/.local/share/mise/installs/python/3.12.3/lib/python3.12/site-packages (from requests->transformers==4.48.1->-r requirements.txt (line 7)) (3.3.2)\n",
      "Requirement already satisfied: idna<4,>=2.5 in /Users/gbndict/.local/share/mise/installs/python/3.12.3/lib/python3.12/site-packages (from requests->transformers==4.48.1->-r requirements.txt (line 7)) (3.7)\n",
      "Requirement already satisfied: certifi>=2017.4.17 in /Users/gbndict/.local/share/mise/installs/python/3.12.3/lib/python3.12/site-packages (from requests->transformers==4.48.1->-r requirements.txt (line 7)) (2024.2.2)\n",
      "Downloading numpy-2.2.2-cp312-cp312-macosx_14_0_arm64.whl (5.1 MB)\n",
      "\u001b[2K   \u001b[90m━━━━━━━━━━━━━━━━━━━━━━━━━━━━━━━━━━━━━━━━\u001b[0m \u001b[32m5.1/5.1 MB\u001b[0m \u001b[31m35.8 MB/s\u001b[0m eta \u001b[36m0:00:00\u001b[0ma \u001b[36m0:00:01\u001b[0m\n",
      "\u001b[?25hDownloading transformers-4.48.1-py3-none-any.whl (9.7 MB)\n",
      "\u001b[2K   \u001b[90m━━━━━━━━━━━━━━━━━━━━━━━━━━━━━━━━━━━━━━━━\u001b[0m \u001b[32m9.7/9.7 MB\u001b[0m \u001b[31m31.0 MB/s\u001b[0m eta \u001b[36m0:00:00\u001b[0m00:01\u001b[0m00:01\u001b[0m\n",
      "\u001b[?25hDownloading datasets-3.2.0-py3-none-any.whl (480 kB)\n",
      "\u001b[2K   \u001b[90m━━━━━━━━━━━━━━━━━━━━━━━━━━━━━━━━━━━━━━━━\u001b[0m \u001b[32m480.6/480.6 kB\u001b[0m \u001b[31m5.7 MB/s\u001b[0m eta \u001b[36m0:00:00\u001b[0m00:01\u001b[0m:00:01\u001b[0m\n",
      "\u001b[?25hDownloading evaluate-0.4.3-py3-none-any.whl (84 kB)\n",
      "\u001b[2K   \u001b[90m━━━━━━━━━━━━━━━━━━━━━━━━━━━━━━━━━━━━━━━━\u001b[0m \u001b[32m84.0/84.0 kB\u001b[0m \u001b[31m7.9 MB/s\u001b[0m eta \u001b[36m0:00:00\u001b[0m\n",
      "\u001b[?25hDownloading botocore-1.34.162-py3-none-any.whl (12.5 MB)\n",
      "\u001b[2K   \u001b[90m━━━━━━━━━━━━━━━━━━━━━━━━━━━━━━━━━━━━━━━━\u001b[0m \u001b[32m12.5/12.5 MB\u001b[0m \u001b[31m29.4 MB/s\u001b[0m eta \u001b[36m0:00:00\u001b[0m00:01\u001b[0m00:01\u001b[0m\n",
      "\u001b[?25hDownloading dill-0.3.8-py3-none-any.whl (116 kB)\n",
      "\u001b[2K   \u001b[90m━━━━━━━━━━━━━━━━━━━━━━━━━━━━━━━━━━━━━━━━\u001b[0m \u001b[32m116.3/116.3 kB\u001b[0m \u001b[31m8.4 MB/s\u001b[0m eta \u001b[36m0:00:00\u001b[0m\n",
      "\u001b[?25hDownloading fsspec-2024.9.0-py3-none-any.whl (179 kB)\n",
      "\u001b[2K   \u001b[90m━━━━━━━━━━━━━━━━━━━━━━━━━━━━━━━━━━━━━━━━\u001b[0m \u001b[32m179.3/179.3 kB\u001b[0m \u001b[31m9.1 MB/s\u001b[0m eta \u001b[36m0:00:00\u001b[0m\n",
      "\u001b[?25hDownloading multiprocess-0.70.16-py312-none-any.whl (146 kB)\n",
      "\u001b[2K   \u001b[90m━━━━━━━━━━━━━━━━━━━━━━━━━━━━━━━━━━━━━━━━\u001b[0m \u001b[32m146.7/146.7 kB\u001b[0m \u001b[31m12.5 MB/s\u001b[0m eta \u001b[36m0:00:00\u001b[0m\n",
      "\u001b[?25hDownloading requests-2.32.3-py3-none-any.whl (64 kB)\n",
      "\u001b[2K   \u001b[90m━━━━━━━━━━━━━━━━━━━━━━━━━━━━━━━━━━━━━━━━\u001b[0m \u001b[32m64.9/64.9 kB\u001b[0m \u001b[31m5.7 MB/s\u001b[0m eta \u001b[36m0:00:00\u001b[0m\n",
      "\u001b[?25hDownloading tokenizers-0.21.0-cp39-abi3-macosx_11_0_arm64.whl (2.6 MB)\n",
      "\u001b[2K   \u001b[90m━━━━━━━━━━━━━━━━━━━━━━━━━━━━━━━━━━━━━━━━\u001b[0m \u001b[32m2.6/2.6 MB\u001b[0m \u001b[31m49.9 MB/s\u001b[0m eta \u001b[36m0:00:00\u001b[0ma \u001b[36m0:00:01\u001b[0m\n",
      "\u001b[?25hDownloading xxhash-3.5.0-cp312-cp312-macosx_11_0_arm64.whl (30 kB)\n",
      "Installing collected packages: xxhash, requests, numpy, fsspec, dill, multiprocess, botocore, tokenizers, transformers, datasets, evaluate\n",
      "  Attempting uninstall: requests\n",
      "    Found existing installation: requests 2.31.0\n",
      "    Uninstalling requests-2.31.0:\n",
      "      Successfully uninstalled requests-2.31.0\n",
      "  Attempting uninstall: numpy\n",
      "    Found existing installation: numpy 2.2.1\n",
      "    Uninstalling numpy-2.2.1:\n",
      "      Successfully uninstalled numpy-2.2.1\n",
      "  Attempting uninstall: fsspec\n",
      "    Found existing installation: fsspec 2024.12.0\n",
      "    Uninstalling fsspec-2024.12.0:\n",
      "      Successfully uninstalled fsspec-2024.12.0\n",
      "  Attempting uninstall: botocore\n",
      "    Found existing installation: botocore 1.35.93\n",
      "    Uninstalling botocore-1.35.93:\n",
      "      Successfully uninstalled botocore-1.35.93\n",
      "\u001b[31mERROR: pip's dependency resolver does not currently take into account all the packages that are installed. This behaviour is the source of the following dependency conflicts.\n",
      "moshi-mlx 0.1.0 requires numpy<2.2,>=2.1.0, but you have numpy 2.2.2 which is incompatible.\n",
      "aiobotocore 2.17.0 requires botocore<1.35.94,>=1.35.74, but you have botocore 1.34.162 which is incompatible.\n",
      "moshi 0.1.0 requires numpy<2.2,>=1.26, but you have numpy 2.2.2 which is incompatible.\n",
      "s3fs 2024.12.0 requires fsspec==2024.12.0.*, but you have fsspec 2024.9.0 which is incompatible.\u001b[0m\u001b[31m\n",
      "\u001b[0mSuccessfully installed botocore-1.34.162 datasets-3.2.0 dill-0.3.8 evaluate-0.4.3 fsspec-2024.9.0 multiprocess-0.70.16 numpy-2.2.2 requests-2.32.3 tokenizers-0.21.0 transformers-4.48.1 xxhash-3.5.0\n",
      "\n",
      "\u001b[1m[\u001b[0m\u001b[34;49mnotice\u001b[0m\u001b[1;39;49m]\u001b[0m\u001b[39;49m A new release of pip is available: \u001b[0m\u001b[31;49m24.0\u001b[0m\u001b[39;49m -> \u001b[0m\u001b[32;49m24.3.1\u001b[0m\n",
      "\u001b[1m[\u001b[0m\u001b[34;49mnotice\u001b[0m\u001b[1;39;49m]\u001b[0m\u001b[39;49m To update, run: \u001b[0m\u001b[32;49mpython3.12 -m pip install --upgrade pip\u001b[0m\n"
     ]
    }
   ],
   "source": [
    "!pip install -r requirements.txt"
   ]
  },
  {
   "cell_type": "code",
   "execution_count": 2,
   "id": "48773921-a5c2-4df8-9406-ec694e904dc5",
   "metadata": {
    "tags": []
   },
   "outputs": [
    {
     "name": "stderr",
     "output_type": "stream",
     "text": [
      "/Users/gbndict/.local/share/mise/installs/python/3.12.3/lib/python3.12/site-packages/tqdm/auto.py:21: TqdmWarning: IProgress not found. Please update jupyter and ipywidgets. See https://ipywidgets.readthedocs.io/en/stable/user_install.html\n",
      "  from .autonotebook import tqdm as notebook_tqdm\n"
     ]
    }
   ],
   "source": [
    "from tqdm import tqdm\n",
    "from transformers import AutoTokenizer, AutoModelForCausalLM\n",
    "from importlib import import_module\n",
    "import os\n",
    "\n",
    "from src.generate import gen\n",
    "from src.prompt_tones import get_change_tone_prompt"
   ]
  },
  {
   "cell_type": "code",
   "execution_count": 3,
   "id": "11cfbebc-09d7-49f4-be02-213a9cce930a",
   "metadata": {},
   "outputs": [],
   "source": [
    "from dynaconf import Dynaconf\n",
    "\n",
    "settings = Dynaconf(settings_files=[\"settings.toml\"], \n",
    "                    env=\"qwen2-1-5B\", # phi3-8B\n",
    "                    environments=True)"
   ]
  },
  {
   "cell_type": "code",
   "execution_count": 4,
   "id": "7ec27c27-97a2-4eba-93a2-577d06006a6f",
   "metadata": {
    "tags": []
   },
   "outputs": [],
   "source": [
    "tone = \"SHORTEN\""
   ]
  },
  {
   "cell_type": "code",
   "execution_count": 8,
   "id": "f016ede2-b1f2-48cb-a2a1-513c7cd67361",
   "metadata": {
    "tags": []
   },
   "outputs": [],
   "source": [
    "if os.path.isdir(settings.model):\n",
    "    tokenizer = AutoTokenizer.from_pretrained(settings.model)\n",
    "    model = AutoModelForCausalLM.from_pretrained(settings.model)\n",
    "    model.eval().cuda()"
   ]
  },
  {
   "cell_type": "code",
   "execution_count": null,
   "id": "30bf9f1b-8746-4a46-8c95-87e09493270e",
   "metadata": {
    "tags": []
   },
   "outputs": [],
   "source": [
    "input_text = \"Here's some sample text to change.\"\n",
    "\n",
    "messages = get_change_tone_prompt(tone, input_text, tokenizer)\n",
    "print(messages)"
   ]
  },
  {
   "cell_type": "code",
   "execution_count": 103,
   "id": "28479892-29aa-4aeb-b5e7-8f63d2e8e0f4",
   "metadata": {
    "tags": []
   },
   "outputs": [],
   "source": [
    "module_name = f\"data.tones.{tone.lower()}_this\"\n",
    "\n",
    "module = import_module(module_name)\n",
    "\n",
    "object_name = tone.lower() + \"_this\"\n",
    "queries = getattr(module, object_name)"
   ]
  },
  {
   "cell_type": "code",
   "execution_count": 104,
   "id": "dc17e8fc-1476-4a95-98df-b4d2812aa5a2",
   "metadata": {
    "tags": []
   },
   "outputs": [
    {
     "data": {
      "text/plain": [
       "[\"The quick brown fox jumps over the lazy dog. It's a well-known pangram, a sentence that contains all the letters of the alphabet. This phrase has been used to test typewriters, computer keyboards, and other devices that involve text input.\",\n",
       " \"In the realm of software development, Python has emerged as a powerful and versatile programming language. Its simplicity, readability, and vast ecosystem of libraries have made it a go-to choice for developers across various domains, from web development and data analysis to machine learning and automation. Python's popularity continues to soar, thanks to its user-friendly syntax and cross-platform compatibility.\",\n",
       " 'The majestic Himalayas, a towering mountain range that stretches across several countries in Asia, have captivated the imagination of adventurers and nature enthusiasts for centuries. These snow-capped peaks, some of the highest in the world, offer breathtaking vistas, challenging trekking routes, and a unique opportunity to immerse oneself in the rich cultural tapestry of the region.',\n",
       " 'Artificial intelligence (AI) has rapidly evolved from a theoretical concept to a transformative technology that is reshaping industries and our daily lives. From virtual assistants and self-driving cars to medical diagnostics and predictive analytics, AI algorithms are revolutionizing the way we interact with machines and process vast amounts of data.',\n",
       " 'The concept of sustainability has gained significant traction in recent years, as individuals, businesses, and governments alike recognize the urgent need to address environmental challenges and promote responsible practices. Sustainable development aims to meet the needs of the present without compromising the ability of future generations to meet their own needs.']"
      ]
     },
     "execution_count": 104,
     "metadata": {},
     "output_type": "execute_result"
    }
   ],
   "source": [
    "queries[:5]"
   ]
  },
  {
   "cell_type": "code",
   "execution_count": 105,
   "id": "54a36934-30d4-4040-82e6-17a9ac527b15",
   "metadata": {
    "tags": []
   },
   "outputs": [
    {
     "name": "stderr",
     "output_type": "stream",
     "text": [
      "100%|██████████| 98/98 [01:04<00:00,  1.51it/s]\n"
     ]
    }
   ],
   "source": [
    "predictions = [\n",
    "    gen(get_change_tone_prompt(tone, e, tokenizer), tokenizer, model) \n",
    "    for e in tqdm(queries)\n",
    "]"
   ]
  },
  {
   "cell_type": "code",
   "execution_count": 106,
   "id": "437f6312-a800-4dc1-95e1-7ccbd10f2620",
   "metadata": {
    "collapsed": true,
    "jupyter": {
     "outputs_hidden": true
    },
    "tags": []
   },
   "outputs": [
    {
     "data": {
      "text/plain": [
       "['It\\'s a pangram! The phrase \"The quick brown fox jumps over the lazy dog\" is famous for its complete use of the English alphabet.',\n",
       " \"Python is a popular programming language known for its simplicity, versatility, and extensive library ecosystem. It's widely used in areas like web development, data analysis, machine learning, and automation due to its readability and compatibility across platforms.\",\n",
       " 'Yes, the Himalayas are truly awe-inspiring. The trekking routes there are both thrilling and rewarding. It’s an incredible experience to immerse yourself in such a diverse culture too!',\n",
       " 'Artificial Intelligence has transformed industries and daily life, impacting everything from virtual assistants to self-driving cars. AI algorithms are transforming how we interact with machines and process data.',\n",
       " 'Sustainability is gaining importance globally due to environmental concerns. It focuses on meeting current needs without compromising the ability of future generations to meet their own needs. This involves addressing issues like climate change, deforestation, and pollution. Sustainable development aims to balance economic growth with ecological health and social well-being.',\n",
       " 'Effective communication is vital for personal and professional success. It involves clarity, active listening, and empathy. Strong relationships, better collaboration, and more effective problem solving are achievable with great communication skills.',\n",
       " 'Cryptocurrency and blockchain technology have transformed traditional financial systems by offering decentralized, transparent alternatives for transactions and record-keeping. Bitcoin is a prime example of this with its impact on various digital currencies and applications built on blockchain technology.',\n",
       " 'Cybersecurity is becoming increasingly important due to increasing interconnectedness and the potential for severe consequences from cyber threats like individual privacy breaches, large-scale corporate hacks, and state-sponsored attacks.',\n",
       " 'The pursuit of happiness varies widely across cultures and individuals. Materialism vs personal fulfillment are common themes.',\n",
       " 'Sports bring people together across cultures and languages. They can evoke strong feelings & create memorable moments.',\n",
       " \"Dear [Recipient],\\nI'm happy to help! Please let me know what you need assistance with.\",\n",
       " \"Hello [Your Name], \\n\\nThank you for following up on the project proposal. I have reviewed it and appreciate your effort in providing additional information. If there is anything else I can do to assist with this, please don't hesitate to ask. Thank you again for your time and effort. Best regards, [Your Name]\",\n",
       " \"Dear Hiring Manager,\\nI'm reaching out regarding an open position for [Job Title]. My extensive experience in [Relevant Field] and successful track record make me an excellent fit for this role.\\nPlease find attached my resume for your review. Looking forward to discussing my qualifications and how I can contribute to your team.\\nBest regards,\\n[Your Name]\",\n",
       " \"Dear [Recipient's Name],\\nThank you for your kind words - your dedication and support during our recent project made all the difference. Looking forward to more opportunities together.\\nBest regards,\\n[Your Name]\",\n",
       " \"Hello [Recipient's Name],  \\nThis email is to inform you that I am reaching out to schedule a meeting regarding the marketing campaign for our new product line. Please let me know when you are available.  \\nThank you,  \\n[Your Name]\",\n",
       " 'Good news! Our company was selected as a finalist for [Award Name], highlighting our accomplishments and industry contributions. Thank you to everyone for your hard work. Best wishes!',\n",
       " \"Hi [Recipient's Name],\\nRegarding the pending invoice [Invoice Number], kindly let me know when you will receive it and if there is anything specific you need from me.\\nThanks!\\n[Your Name]\",\n",
       " \"Dear [Recipient's Name],\\n\\nFollowing up from our conversation about the partnership opportunity between our companies, I believe a collaboration would benefit both parties. I propose scheduling a call or meeting to discuss the potential terms and conditions further.\\n\\nPlease let me know your availability at your earliest convenience.\\n\\nBest regards,\\n[Your Name]\",\n",
       " 'Hi, looking forward to meeting you at [Event Name]. Can confirm spot is still open and will be happy to register upon confirmation. If interested, please let me know about details like agenda, discounts etc. Looking forward to connecting with you!',\n",
       " \"Dear [Recipient's Name],\\n\\nWarm regards,\\n\\n[Your Name]\",\n",
       " \"No worries, no problem! Just make sure you're ready and on time. Looking forward to catching up with you.\",\n",
       " \"You're welcome! Glad to hear you finished your project. Send over the files when you can!\",\n",
       " \"I'm sorry, but as an AI language model, I don't have personal plans like humans do. However, I can suggest some activities based on your interests and preferences!\",\n",
       " \"You're not alone in feeling frustrated with traffic. Maybe ordering takeout is an option for now. Take care and good luck with your evening.\",\n",
       " \"Yes, I've heard about it! It sounds like an exciting new spot in town. Would love to go try it out with you guys!\",\n",
       " \"It sounds like you're having a busy week. Good luck with your studies! Don't forget to take breaks and stay healthy too.\",\n",
       " \"If you're looking for a recommendation, consider factors like screen size, battery life, camera quality, and price. Popular options include Samsung Galaxy, iPhone, and Google Pixel.\",\n",
       " 'That sounds fantastic! Enjoy your vacation! Relaxing by the beach is perfect for rejuvenation.',\n",
       " 'Sure, please send me the link! Enjoying the video.',\n",
       " 'Sure, please grab some milk and eggs for me. Thanks!',\n",
       " 'Great choice! Fresh produce is always good for your health. What kind of fruits and vegetables are you planning to buy?',\n",
       " 'The weather forecast predicts heavy rainfall and thunderstorms all day long.',\n",
       " 'That sounds great! Enjoy your time off and binge-watch away!',\n",
       " 'That sounds like an exciting plan! Where do you want to go first? What kind of travel plans do you have in mind?',\n",
       " 'Yes, the professor provided detailed instructions for completing the assignment.',\n",
       " \"To maintain a balanced lifestyle, it's essential to exercise regularly and eat a nutritious diet.\",\n",
       " 'Yes, they are making good progress. The deadline is approaching quickly!',\n",
       " 'Your sister has graduated with honors from university and is currently looking for job opportunities.',\n",
       " 'Yes, that sounds interesting! What kind of dishes can you recommend?',\n",
       " 'Enjoying outdoor activities is great for relaxation and bonding with family. What kind of activities do you usually do together?',\n",
       " 'Yes, many companies are adopting new software systems for this purpose. Improving operational efficiency can be beneficial in several ways such as reducing costs, increasing productivity, and enhancing customer satisfaction. What specific areas do you think this software will focus on improving?',\n",
       " 'The annual music festival brings together thousands of people to enjoy live performances.',\n",
       " \"Your neighbor's dog barks excessively, which is disruptive and annoying.\",\n",
       " 'The library is holding a book club discussion about a new bestseller.',\n",
       " 'Yes, the team is focused and ready for the championship game. Good luck!',\n",
       " 'The art exhibition features outstanding paintings and sculptures made by skilled artists.',\n",
       " 'That sounds exciting! What kind of travel experiences did your friend enjoy?',\n",
       " 'Yes, that sounds great! What kind of movie is it?',\n",
       " 'Universities often offer extracurricular activities and clubs where students can explore their interests.',\n",
       " 'Yes, that sounds like a great initiative. What is the cause this year?',\n",
       " 'Great choice! Enjoy your shopping trip at the grocery store. Safe travels and happy cooking with your fresh fruits and veggies for dinner tonight!',\n",
       " 'Yes, \"The quick brown fox jumps over the lazy dog\" is a well-known phrase that can be used for testing font display compatibility in various contexts.',\n",
       " 'To maintain a healthy lifestyle, regular exercise and a balanced diet are advised.',\n",
       " 'Understood, thank you for letting me know about the rescheduling. Looking forward to seeing you then!',\n",
       " \"I'm sorry, but your request is not clear. Could you please specify which piece of furniture and what assembly instructions are needed?\",\n",
       " \"Great news! It sounds like you're making progress on your project. Keep going with that hard work!\",\n",
       " 'Be prepared for scattered showers today. Carry an umbrella if needed.',\n",
       " 'That sounds exciting! What kind of beach activities are you looking forward to doing there?',\n",
       " 'Yes, the new restaurant sounds promising! Have you tried it yet?',\n",
       " \"That sounds interesting! What programming language are you learning? It might be helpful if you can provide more details about your challenges and what specific aspects of the language you're struggling with.\",\n",
       " 'Annual company picnic scheduled for this Saturday; encourage all employees & families to attend.',\n",
       " 'That sounds interesting! What is the title of your book?',\n",
       " \"The new highway's construction was delayed because of environmental concerns raised by local residents.\",\n",
       " 'That sounds like a great idea! Enroll in an online course to improve your skills and knowledge in a specific area can be very beneficial.',\n",
       " \"That sounds amazing! What did you think about the band's performance?\",\n",
       " \"You're looking for an apartment closer to your workplace and within your budget.\",\n",
       " 'The company is undergoing a major restructuring that could lead to job cuts and department changes.',\n",
       " 'That sounds exciting! What kind of menu are you planning for your dinner party?',\n",
       " 'New software update includes bug fixes and performance improvements for the application.',\n",
       " 'That sounds interesting! Learning a new language can be challenging but also rewarding. What language are you learning?',\n",
       " 'University offers scholarship for academically exceptional students.',\n",
       " \"To choose the right car for your needs, consider factors like budget, driving style, desired features (like fuel efficiency or safety), and the type of terrain you'll be using the car in. You might also want to test drive different models before making a decision.\",\n",
       " 'Yes, the community center is planning an event to help underprivileged kids.',\n",
       " 'That sounds interesting. Have you shared more details about your project and what kind of website it is?',\n",
       " 'The movie received mixed reviews, with praise for its cinematography but criticism for its plot.',\n",
       " 'Sounds exciting! What topics will be covered in the seminar?',\n",
       " \"That sounds like an interesting development - I'm glad to hear about it! Reservations can definitely be tough to come by sometimes.\",\n",
       " \"That's great! Learning a new programming language can definitely broaden your skills and open more job opportunities. What language are you learning?\",\n",
       " 'The company is allowing employees to work remotely on certain days.',\n",
       " 'That sounds like an exciting idea! Painting and photography are both great hobbies that can help you express your creativity. You might want to look into beginner classes or workshops to get started. Enjoy exploring your new hobby!',\n",
       " 'Yes, the local library is having a book fair this weekend with a variety of books and author talks.',\n",
       " 'That sounds great! Improving your time management can definitely help with productivity and work-life balance. Keep up the good work!',\n",
       " 'The latest software update includes enhanced security features for protecting user data and privacy.',\n",
       " 'Great! You might want to check out magazines like Elle Decor, House & Garden, or Architectural Digest for ideas and inspiration.',\n",
       " \"Yes, that sounds exciting! What are some specific countries or regions they're considering?\",\n",
       " 'That sounds exciting! Learning a new language can be very rewarding and helpful when traveling abroad. Have you started learning yet or are you just getting started?',\n",
       " \"Yes, that's great news! Encouraging healthy habits among employees can improve overall productivity and well-being. What kind of programs does the company plan to offer?\",\n",
       " 'That sounds great! Which sport are you interested in trying out?',\n",
       " \"Yes, that sounds like a great idea! Food drives are always appreciated and can really help those in need. It's a wonderful way to give back to your community and make someone else's holidays brighter.\",\n",
       " 'That sounds interesting! What kind of app are you developing?',\n",
       " \"Yes, many people are excited about the new movie release. It's always interesting to see what changes they make compared to previous films in the franchise.\",\n",
       " 'Sounds exciting! What kind of professional networking event is it and what are your goals for attending?',\n",
       " 'Yes, that sounds interesting. What is the goal of this program?',\n",
       " 'That sounds interesting! What language are you learning?',\n",
       " 'Yes, that sounds exciting! What kind of music do you like?',\n",
       " \"That sounds interesting! Gardening and woodworking are great hobbies for exploring creativity. They're both hands-on activities that can be very fulfilling. What kind of projects do you have in mind?\",\n",
       " 'The university has a summer internship program available for students seeking practical experience.',\n",
       " \"That's great! Improving your public speaking skills can definitely boost your confidence and effectiveness in communication. Keep practicing and learning new techniques!\"]"
      ]
     },
     "execution_count": 106,
     "metadata": {},
     "output_type": "execute_result"
    }
   ],
   "source": [
    "predictions"
   ]
  }
 ],
 "metadata": {
  "kernelspec": {
   "display_name": "Python 3 (ipykernel)",
   "language": "python",
   "name": "python3"
  },
  "language_info": {
   "codemirror_mode": {
    "name": "ipython",
    "version": 3
   },
   "file_extension": ".py",
   "mimetype": "text/x-python",
   "name": "python",
   "nbconvert_exporter": "python",
   "pygments_lexer": "ipython3",
   "version": "3.12.3"
  }
 },
 "nbformat": 4,
 "nbformat_minor": 5
}
