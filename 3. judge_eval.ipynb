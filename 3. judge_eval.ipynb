{
 "cells": [
  {
   "cell_type": "code",
   "execution_count": null,
   "id": "dc6d00cb-424f-4bca-89b0-1385939add80",
   "metadata": {},
   "outputs": [],
   "source": [
    "!pip install -r requirements.txt"
   ]
  },
  {
   "cell_type": "code",
   "execution_count": 1,
   "id": "9c27140d-0ee1-468f-a87a-52b57607775b",
   "metadata": {
    "tags": []
   },
   "outputs": [],
   "source": [
    "import boto3\n",
    "from importlib import import_module\n",
    "from dynaconf import Dynaconf\n",
    "import os\n",
    "import pandas as pd\n",
    "from datetime import datetime\n",
    "\n",
    "from src.judge import judge"
   ]
  },
  {
   "cell_type": "code",
   "execution_count": 26,
   "id": "c9eda4ef-e178-4052-b352-012c7cde7a8e",
   "metadata": {},
   "outputs": [],
   "source": [
    "judge_model = \"sonnet-3\"\n",
    "model = 'nova-lite'\n",
    "tones = ['casual', 'elaborate', 'emojify', 'improve', 'keypoints', 'professional', 'proofread', 'shorten', 'witty']"
   ]
  },
  {
   "cell_type": "code",
   "execution_count": 3,
   "id": "f57b8a7d-1341-4a6b-bbbd-ce31051a59cb",
   "metadata": {
    "tags": []
   },
   "outputs": [],
   "source": [
    "settings = Dynaconf(settings_files=[\"settings.toml\"], env=judge_model, environments=True)"
   ]
  },
  {
   "cell_type": "code",
   "execution_count": 4,
   "id": "a7a74525-cd00-4893-8127-c65d12504b89",
   "metadata": {},
   "outputs": [],
   "source": [
    "bedrock_client = boto3.client(service_name = 'bedrock-runtime', region_name = settings.region)"
   ]
  },
  {
   "cell_type": "markdown",
   "id": "1230ea25-752d-4842-aaf0-7f5987f0d0cb",
   "metadata": {},
   "source": [
    "## Generic"
   ]
  },
  {
   "cell_type": "code",
   "execution_count": 5,
   "id": "a8021b67-c4c0-486c-933c-d54141f8e39b",
   "metadata": {},
   "outputs": [],
   "source": [
    "# d = pd.read_csv('~/data/all.csv')\n",
    "\n",
    "folder_path = os.path.expanduser('~/data')\n",
    "files = sorted([f for f in os.listdir(folder_path) if os.path.isfile(os.path.join(folder_path, f))])\n",
    "last_file = files[-2]\n",
    "\n",
    "d = pd.read_csv(os.path.join(folder_path, last_file))"
   ]
  },
  {
   "cell_type": "code",
   "execution_count": 29,
   "id": "5a5f938e-ebb5-4a17-a4ea-1953a9ee2005",
   "metadata": {},
   "outputs": [
    {
     "name": "stdout",
     "output_type": "stream",
     "text": [
      "\n",
      "    ---------------------\n",
      "    casual\n",
      "    ---------------------\n",
      "    \n",
      "\n",
      "    ---------------------\n",
      "    elaborate\n",
      "    ---------------------\n",
      "    \n",
      "\n",
      "    ---------------------\n",
      "    emojify\n",
      "    ---------------------\n",
      "    \n",
      "\n",
      "    ---------------------\n",
      "    improve\n",
      "    ---------------------\n",
      "    \n",
      "\n",
      "    ---------------------\n",
      "    keypoints\n",
      "    ---------------------\n",
      "    \n",
      "\n",
      "    ---------------------\n",
      "    professional\n",
      "    ---------------------\n",
      "    \n",
      "\n",
      "    ---------------------\n",
      "    proofread\n",
      "    ---------------------\n",
      "    \n",
      "\n",
      "    ---------------------\n",
      "    shorten\n",
      "    ---------------------\n",
      "    \n",
      "\n",
      "    ---------------------\n",
      "    witty\n",
      "    ---------------------\n",
      "    \n",
      "I went to the store to buy some groceries. I embarked on a grand expedition to the store, where I procured an assortment of groceries, proving once again that I am a master of the modern-day grocery run.\n"
     ]
    }
   ],
   "source": [
    "for tone in tones:\n",
    "    print(f'''\n",
    "    ---------------------\n",
    "    {tone}\n",
    "    ---------------------\n",
    "    ''')\n",
    "    dmt = d[(d.tone == tone) * (d.model == model)]\n",
    "    if dmt.overall_score.isnull().any().item():\n",
    "        queries, preds = dmt.input.values, dmt.output.values\n",
    "        print(queries[0], preds[0])\n",
    "        a = judge(settings.model, bedrock_client, queries, preds, tone)\n",
    "        d.loc[(d.tone == tone) * (d.model == model), [a.lower() for a in a.columns]] = a.values"
   ]
  },
  {
   "cell_type": "code",
   "execution_count": 34,
   "id": "abf45836-1aec-45f3-9d82-fb0de38198a5",
   "metadata": {
    "tags": []
   },
   "outputs": [],
   "source": [
    "t = datetime.now().timestamp()\n",
    "d.to_csv(f'~/data/all-{t}.csv', index=False)"
   ]
  },
  {
   "cell_type": "code",
   "execution_count": 33,
   "id": "3f649697-1d20-450c-800a-5c9990946914",
   "metadata": {},
   "outputs": [
    {
     "data": {
      "text/plain": [
       "model      tone        \n",
       "haiku      casual          79.166667\n",
       "           elaborate       90.025253\n",
       "           emojify         89.750000\n",
       "           improve         92.654639\n",
       "           keypoints       86.734694\n",
       "           professional    94.342105\n",
       "           proofread       97.390110\n",
       "           shorten         85.969388\n",
       "           witty           68.956044\n",
       "haiku-3-5  casual          98.878205\n",
       "           elaborate       97.066327\n",
       "           emojify         96.500000\n",
       "           improve         88.690476\n",
       "           keypoints       99.613402\n",
       "           professional    93.382353\n",
       "           proofread       94.047619\n",
       "           shorten         97.938144\n",
       "           witty           84.075342\n",
       "nova-lite  casual          98.717949\n",
       "           elaborate       92.346939\n",
       "           emojify         86.750000\n",
       "           improve         93.055556\n",
       "           keypoints       94.716495\n",
       "           professional    88.970588\n",
       "           proofread       97.420635\n",
       "           shorten         96.950172\n",
       "           witty           82.534247\n",
       "phi        casual          87.500000\n",
       "           elaborate       78.787879\n",
       "           emojify         45.000000\n",
       "           improve         86.082474\n",
       "           keypoints       96.301020\n",
       "           professional    72.500000\n",
       "           proofread       91.483516\n",
       "           shorten         46.556122\n",
       "           witty           60.989011\n",
       "qwen       casual          58.602151\n",
       "           elaborate       74.242424\n",
       "           emojify         31.250000\n",
       "           improve         83.505155\n",
       "           keypoints       91.581633\n",
       "           professional    77.763158\n",
       "           proofread       92.582418\n",
       "           shorten         45.918367\n",
       "           witty           53.846154\n",
       "Name: overall_score, dtype: float64"
      ]
     },
     "execution_count": 33,
     "metadata": {},
     "output_type": "execute_result"
    }
   ],
   "source": [
    "100 * (d.groupby(['model', 'tone'])['overall_score'].mean() - 1) / 2"
   ]
  },
  {
   "cell_type": "code",
   "execution_count": 32,
   "id": "512ba61e-bfa4-4e5d-b8f7-625cf0ec642e",
   "metadata": {},
   "outputs": [
    {
     "data": {
      "text/plain": [
       "np.float64(92.80082484230957)"
      ]
     },
     "execution_count": 32,
     "metadata": {},
     "output_type": "execute_result"
    }
   ],
   "source": [
    "100 * (d[d.model == model]['overall_score'].mean() - 1) / 2"
   ]
  },
  {
   "cell_type": "markdown",
   "id": "10685504-e0ae-4180-9ed0-1afabb0d25fd",
   "metadata": {},
   "source": [
    "## Rewrite Judge"
   ]
  },
  {
   "cell_type": "code",
   "execution_count": null,
   "id": "dd13fc69-b941-4c5d-afe1-03aacfebae5b",
   "metadata": {},
   "outputs": [],
   "source": [
    "from src.judge import rewrite_judge\n",
    "\n",
    "tones = ['casual', 'elaborate', 'emojify', 'improve', 'keypoints', 'professional', 'proofread', 'shorten', 'witty']\n",
    "models = ['haiku', 'qwen', 'phi']"
   ]
  },
  {
   "cell_type": "code",
   "execution_count": null,
   "id": "0b63ff83-0c48-4069-9e21-39f9e173e0ad",
   "metadata": {},
   "outputs": [],
   "source": [
    "folder_path = os.path.expanduser('~/data')\n",
    "files = sorted([f for f in os.listdir(folder_path) if os.path.isfile(os.path.join(folder_path, f))])\n",
    "last_file = files[-2]\n",
    "\n",
    "d = pd.read_csv(os.path.join(folder_path, last_file))\n",
    "\n",
    "for t in tones:\n",
    "    for m in models:\n",
    "        f = f'data/tones/{t.lower()}_{m}_rewrite.csv'\n",
    "        if os.path.isfile(f):\n",
    "            print(f'tone:{t}, model:{m} – Already done')\n",
    "        else:\n",
    "            print(f'tone:{t}, model:{m}')\n",
    "    \n",
    "            a = rewrite_judge(modelId, bedrock_client, queries, preds)\n",
    "            print(a.rewrite_score.astype(int).mean())\n",
    "            a.to_csv(f)"
   ]
  }
 ],
 "metadata": {
  "kernelspec": {
   "display_name": "Python 3 (ipykernel)",
   "language": "python",
   "name": "python3"
  },
  "language_info": {
   "codemirror_mode": {
    "name": "ipython",
    "version": 3
   },
   "file_extension": ".py",
   "mimetype": "text/x-python",
   "name": "python",
   "nbconvert_exporter": "python",
   "pygments_lexer": "ipython3",
   "version": "3.12.3"
  }
 },
 "nbformat": 4,
 "nbformat_minor": 5
}
